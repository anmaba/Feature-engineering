{
 "cells": [
  {
   "cell_type": "markdown",
   "id": "d847bff6",
   "metadata": {},
   "source": [
    "# SPRINT 8: Tasca Feature Engineering\n",
    "\n",
    "Descripció\n",
    "Aprèn a gestionar paràmetres amb Python.\n",
    "\n",
    "## NIVELL 1\n",
    "### Exercici 1\n",
    "Agafa un conjunt de dades de tema esportiu que t'agradi i normalitza els atributs categòrics en dummy. Estandaritza els atributs numèrics amb StandardScaler.\n",
    "\n",
    "Per a realitzar aquest sprint utilitzo el mateix conjunt de dades que els sprints anteriors, relacionat amb les jugadores del mundial de futbol femení 2019.\n",
    "\n"
   ]
  },
  {
   "cell_type": "code",
   "execution_count": 1,
   "id": "6ead668f",
   "metadata": {
    "ExecuteTime": {
     "end_time": "2022-06-20T10:01:07.224496Z",
     "start_time": "2022-06-20T09:58:52.779342Z"
    }
   },
   "outputs": [
    {
     "data": {
      "text/html": [
       "<div>\n",
       "<style scoped>\n",
       "    .dataframe tbody tr th:only-of-type {\n",
       "        vertical-align: middle;\n",
       "    }\n",
       "\n",
       "    .dataframe tbody tr th {\n",
       "        vertical-align: top;\n",
       "    }\n",
       "\n",
       "    .dataframe thead th {\n",
       "        text-align: right;\n",
       "    }\n",
       "</style>\n",
       "<table border=\"1\" class=\"dataframe\">\n",
       "  <thead>\n",
       "    <tr style=\"text-align: right;\">\n",
       "      <th></th>\n",
       "      <th>Squad no.</th>\n",
       "      <th>Country</th>\n",
       "      <th>Pos.</th>\n",
       "      <th>Player</th>\n",
       "      <th>DOB</th>\n",
       "      <th>Age</th>\n",
       "      <th>Caps</th>\n",
       "      <th>Goals</th>\n",
       "      <th>Club</th>\n",
       "    </tr>\n",
       "  </thead>\n",
       "  <tbody>\n",
       "    <tr>\n",
       "      <th>0</th>\n",
       "      <td>1</td>\n",
       "      <td>US</td>\n",
       "      <td>GK</td>\n",
       "      <td>Alyssa Naeher</td>\n",
       "      <td>20-abr-88</td>\n",
       "      <td>31</td>\n",
       "      <td>43.0</td>\n",
       "      <td>0.0</td>\n",
       "      <td>Chicago Red Stars</td>\n",
       "    </tr>\n",
       "    <tr>\n",
       "      <th>1</th>\n",
       "      <td>2</td>\n",
       "      <td>US</td>\n",
       "      <td>FW</td>\n",
       "      <td>Mallory Pugh</td>\n",
       "      <td>29-abr-98</td>\n",
       "      <td>21</td>\n",
       "      <td>50.0</td>\n",
       "      <td>15.0</td>\n",
       "      <td>Washington Spirit</td>\n",
       "    </tr>\n",
       "    <tr>\n",
       "      <th>2</th>\n",
       "      <td>3</td>\n",
       "      <td>US</td>\n",
       "      <td>MF</td>\n",
       "      <td>Sam Mewis</td>\n",
       "      <td>09-oct-92</td>\n",
       "      <td>26</td>\n",
       "      <td>47.0</td>\n",
       "      <td>9.0</td>\n",
       "      <td>North Carolina Courage</td>\n",
       "    </tr>\n",
       "    <tr>\n",
       "      <th>3</th>\n",
       "      <td>4</td>\n",
       "      <td>US</td>\n",
       "      <td>DF</td>\n",
       "      <td>Becky Sauerbrunn</td>\n",
       "      <td>06-jun-85</td>\n",
       "      <td>34</td>\n",
       "      <td>155.0</td>\n",
       "      <td>0.0</td>\n",
       "      <td>Utah Royals</td>\n",
       "    </tr>\n",
       "    <tr>\n",
       "      <th>4</th>\n",
       "      <td>5</td>\n",
       "      <td>US</td>\n",
       "      <td>DF</td>\n",
       "      <td>Kelley O'Hara</td>\n",
       "      <td>04-ago-88</td>\n",
       "      <td>30</td>\n",
       "      <td>115.0</td>\n",
       "      <td>2.0</td>\n",
       "      <td>Utah Royals</td>\n",
       "    </tr>\n",
       "    <tr>\n",
       "      <th>...</th>\n",
       "      <td>...</td>\n",
       "      <td>...</td>\n",
       "      <td>...</td>\n",
       "      <td>...</td>\n",
       "      <td>...</td>\n",
       "      <td>...</td>\n",
       "      <td>...</td>\n",
       "      <td>...</td>\n",
       "      <td>...</td>\n",
       "    </tr>\n",
       "    <tr>\n",
       "      <th>547</th>\n",
       "      <td>19</td>\n",
       "      <td>France</td>\n",
       "      <td>DF</td>\n",
       "      <td>Griedge Mbock Bathy</td>\n",
       "      <td>26-feb-95</td>\n",
       "      <td>24</td>\n",
       "      <td>49.0</td>\n",
       "      <td>4.0</td>\n",
       "      <td>Lyon</td>\n",
       "    </tr>\n",
       "    <tr>\n",
       "      <th>548</th>\n",
       "      <td>20</td>\n",
       "      <td>France</td>\n",
       "      <td>FW</td>\n",
       "      <td>Delphine Cascarino</td>\n",
       "      <td>05-feb-97</td>\n",
       "      <td>22</td>\n",
       "      <td>11.0</td>\n",
       "      <td>1.0</td>\n",
       "      <td>Lyon</td>\n",
       "    </tr>\n",
       "    <tr>\n",
       "      <th>549</th>\n",
       "      <td>21</td>\n",
       "      <td>France</td>\n",
       "      <td>GK</td>\n",
       "      <td>Pauline Peyraud-Magnin</td>\n",
       "      <td>17-mar-92</td>\n",
       "      <td>27</td>\n",
       "      <td>1.0</td>\n",
       "      <td>0.0</td>\n",
       "      <td>Arsenal</td>\n",
       "    </tr>\n",
       "    <tr>\n",
       "      <th>550</th>\n",
       "      <td>22</td>\n",
       "      <td>France</td>\n",
       "      <td>DF</td>\n",
       "      <td>Julie Debever</td>\n",
       "      <td>18-abr-88</td>\n",
       "      <td>31</td>\n",
       "      <td>2.0</td>\n",
       "      <td>0.0</td>\n",
       "      <td>Guingamp</td>\n",
       "    </tr>\n",
       "    <tr>\n",
       "      <th>551</th>\n",
       "      <td>23</td>\n",
       "      <td>France</td>\n",
       "      <td>MF</td>\n",
       "      <td>Maéva Clémaron</td>\n",
       "      <td>10-nov-92</td>\n",
       "      <td>26</td>\n",
       "      <td>3.0</td>\n",
       "      <td>0.0</td>\n",
       "      <td>Fleury</td>\n",
       "    </tr>\n",
       "  </tbody>\n",
       "</table>\n",
       "<p>552 rows × 9 columns</p>\n",
       "</div>"
      ],
      "text/plain": [
       "     Squad no. Country Pos.                  Player        DOB  Age   Caps  \\\n",
       "0            1      US   GK           Alyssa Naeher  20-abr-88   31   43.0   \n",
       "1            2      US   FW            Mallory Pugh  29-abr-98   21   50.0   \n",
       "2            3      US   MF               Sam Mewis  09-oct-92   26   47.0   \n",
       "3            4      US   DF        Becky Sauerbrunn  06-jun-85   34  155.0   \n",
       "4            5      US   DF           Kelley O'Hara  04-ago-88   30  115.0   \n",
       "..         ...     ...  ...                     ...        ...  ...    ...   \n",
       "547         19  France   DF     Griedge Mbock Bathy  26-feb-95   24   49.0   \n",
       "548         20  France   FW      Delphine Cascarino  05-feb-97   22   11.0   \n",
       "549         21  France   GK  Pauline Peyraud-Magnin  17-mar-92   27    1.0   \n",
       "550         22  France   DF          Julie Debever   18-abr-88   31    2.0   \n",
       "551         23  France   MF         Maéva Clémaron   10-nov-92   26    3.0   \n",
       "\n",
       "     Goals                    Club  \n",
       "0      0.0       Chicago Red Stars  \n",
       "1     15.0       Washington Spirit  \n",
       "2      9.0  North Carolina Courage  \n",
       "3      0.0             Utah Royals  \n",
       "4      2.0             Utah Royals  \n",
       "..     ...                     ...  \n",
       "547    4.0                    Lyon  \n",
       "548    1.0                    Lyon  \n",
       "549    0.0                 Arsenal  \n",
       "550    0.0                Guingamp  \n",
       "551    0.0                  Fleury  \n",
       "\n",
       "[552 rows x 9 columns]"
      ]
     },
     "metadata": {},
     "output_type": "display_data"
    }
   ],
   "source": [
    "# Crido a les llibreries que necessito\n",
    "# Faig entrar l'arxiu CSV gràcies a pandas\n",
    "\n",
    "import pandas as pd\n",
    "import numpy as np\n",
    "import random\n",
    "import matplotlib.pyplot as plt\n",
    "import seaborn as sns\n",
    "import imblearn\n",
    "\n",
    "women = pd.read_csv(\"C:\\\\Users\\\\Anna\\DataScience\\\\SPRINTS\\\\SPRINT 5\\\\Womens Squads.csv\", encoding = \"ISO-8859-1\", engine='python', sep=\";\")\n",
    "\n",
    "display(women)"
   ]
  },
  {
   "cell_type": "code",
   "execution_count": 2,
   "id": "5ca8a92d",
   "metadata": {
    "ExecuteTime": {
     "end_time": "2022-06-20T10:01:07.256476Z",
     "start_time": "2022-06-20T10:01:07.227494Z"
    }
   },
   "outputs": [
    {
     "data": {
      "text/plain": [
       "Squad no.    552\n",
       "Country      552\n",
       "Pos.         552\n",
       "Player       552\n",
       "DOB          552\n",
       "Age          552\n",
       "Caps         520\n",
       "Goals        520\n",
       "Club         552\n",
       "dtype: int64"
      ]
     },
     "execution_count": 2,
     "metadata": {},
     "output_type": "execute_result"
    }
   ],
   "source": [
    "women.count()"
   ]
  },
  {
   "cell_type": "code",
   "execution_count": 3,
   "id": "8aa7821f",
   "metadata": {
    "ExecuteTime": {
     "end_time": "2022-06-20T10:01:07.974624Z",
     "start_time": "2022-06-20T10:01:07.258475Z"
    }
   },
   "outputs": [
    {
     "name": "stdout",
     "output_type": "stream",
     "text": [
      "     Squad no.  Country   Pos.  Player    DOB    Age   Caps  Goals   Club\n",
      "0        False    False  False   False  False  False  False  False  False\n",
      "1        False    False  False   False  False  False  False  False  False\n",
      "2        False    False  False   False  False  False  False  False  False\n",
      "3        False    False  False   False  False  False  False  False  False\n",
      "4        False    False  False   False  False  False  False  False  False\n",
      "..         ...      ...    ...     ...    ...    ...    ...    ...    ...\n",
      "547      False    False  False   False  False  False  False  False  False\n",
      "548      False    False  False   False  False  False  False  False  False\n",
      "549      False    False  False   False  False  False  False  False  False\n",
      "550      False    False  False   False  False  False  False  False  False\n",
      "551      False    False  False   False  False  False  False  False  False\n",
      "\n",
      "[552 rows x 9 columns]\n",
      "____________________________________________________________________________\n",
      "Squad no.    552\n",
      "Country      552\n",
      "Pos.         552\n",
      "Player       552\n",
      "DOB          552\n",
      "Age          552\n",
      "Caps         520\n",
      "Goals        520\n",
      "Club         552\n",
      "dtype: int64\n",
      "____________________________________________________________________________\n",
      "Squad no.     0\n",
      "Country       0\n",
      "Pos.          0\n",
      "Player        0\n",
      "DOB           0\n",
      "Age           0\n",
      "Caps         32\n",
      "Goals        32\n",
      "Club          0\n",
      "dtype: int64\n"
     ]
    }
   ],
   "source": [
    "# Com que en l'anterior punt veiem que les columnes \"Caps\" i \"Goals\" tenen menys quantitat de dades que la resta de columnes, em fa sospitar que hi ha nuls en aquest dataset, per tant ho comprovo\n",
    "\n",
    "print(women.isnull())\n",
    "\n",
    "print(\"____________________________________________________________________________\")\n",
    "\n",
    "print(women.count())\n",
    "\n",
    "print(\"____________________________________________________________________________\")\n",
    "\n",
    "print(women.isnull().sum())"
   ]
  },
  {
   "cell_type": "code",
   "execution_count": 4,
   "id": "5a468f88",
   "metadata": {
    "ExecuteTime": {
     "end_time": "2022-06-20T10:01:08.255952Z",
     "start_time": "2022-06-20T10:01:07.977620Z"
    }
   },
   "outputs": [
    {
     "data": {
      "text/plain": [
       "Squad no.    520\n",
       "Country      520\n",
       "Pos.         520\n",
       "Player       520\n",
       "DOB          520\n",
       "Age          520\n",
       "Caps         520\n",
       "Goals        520\n",
       "Club         520\n",
       "dtype: int64"
      ]
     },
     "execution_count": 4,
     "metadata": {},
     "output_type": "execute_result"
    }
   ],
   "source": [
    "# Eliminem les files que contenen algun valor nul i comprobem que s'han eliminat, de manera que totes les files tenen la mateixa mida ara.\n",
    "\n",
    "women = women.dropna(subset=[\"Caps\", \"Goals\"])\n",
    "\n",
    "women.count()"
   ]
  },
  {
   "cell_type": "code",
   "execution_count": 5,
   "id": "cef8f136",
   "metadata": {
    "ExecuteTime": {
     "end_time": "2022-06-20T10:01:08.428562Z",
     "start_time": "2022-06-20T10:01:08.260950Z"
    }
   },
   "outputs": [
    {
     "data": {
      "text/html": [
       "<div>\n",
       "<style scoped>\n",
       "    .dataframe tbody tr th:only-of-type {\n",
       "        vertical-align: middle;\n",
       "    }\n",
       "\n",
       "    .dataframe tbody tr th {\n",
       "        vertical-align: top;\n",
       "    }\n",
       "\n",
       "    .dataframe thead th {\n",
       "        text-align: right;\n",
       "    }\n",
       "</style>\n",
       "<table border=\"1\" class=\"dataframe\">\n",
       "  <thead>\n",
       "    <tr style=\"text-align: right;\">\n",
       "      <th></th>\n",
       "      <th>Squad no.</th>\n",
       "      <th>Age</th>\n",
       "      <th>Caps</th>\n",
       "      <th>Goals</th>\n",
       "    </tr>\n",
       "  </thead>\n",
       "  <tbody>\n",
       "    <tr>\n",
       "      <th>count</th>\n",
       "      <td>520.000000</td>\n",
       "      <td>520.000000</td>\n",
       "      <td>520.000000</td>\n",
       "      <td>520.000000</td>\n",
       "    </tr>\n",
       "    <tr>\n",
       "      <th>mean</th>\n",
       "      <td>11.867308</td>\n",
       "      <td>26.178846</td>\n",
       "      <td>43.661538</td>\n",
       "      <td>7.348077</td>\n",
       "    </tr>\n",
       "    <tr>\n",
       "      <th>std</th>\n",
       "      <td>6.609365</td>\n",
       "      <td>3.996715</td>\n",
       "      <td>43.674846</td>\n",
       "      <td>15.541727</td>\n",
       "    </tr>\n",
       "    <tr>\n",
       "      <th>min</th>\n",
       "      <td>1.000000</td>\n",
       "      <td>16.000000</td>\n",
       "      <td>0.000000</td>\n",
       "      <td>0.000000</td>\n",
       "    </tr>\n",
       "    <tr>\n",
       "      <th>25%</th>\n",
       "      <td>6.000000</td>\n",
       "      <td>23.000000</td>\n",
       "      <td>11.750000</td>\n",
       "      <td>0.000000</td>\n",
       "    </tr>\n",
       "    <tr>\n",
       "      <th>50%</th>\n",
       "      <td>12.000000</td>\n",
       "      <td>26.000000</td>\n",
       "      <td>29.500000</td>\n",
       "      <td>1.500000</td>\n",
       "    </tr>\n",
       "    <tr>\n",
       "      <th>75%</th>\n",
       "      <td>18.000000</td>\n",
       "      <td>29.000000</td>\n",
       "      <td>62.000000</td>\n",
       "      <td>8.250000</td>\n",
       "    </tr>\n",
       "    <tr>\n",
       "      <th>max</th>\n",
       "      <td>23.000000</td>\n",
       "      <td>41.000000</td>\n",
       "      <td>282.000000</td>\n",
       "      <td>181.000000</td>\n",
       "    </tr>\n",
       "  </tbody>\n",
       "</table>\n",
       "</div>"
      ],
      "text/plain": [
       "        Squad no.         Age        Caps       Goals\n",
       "count  520.000000  520.000000  520.000000  520.000000\n",
       "mean    11.867308   26.178846   43.661538    7.348077\n",
       "std      6.609365    3.996715   43.674846   15.541727\n",
       "min      1.000000   16.000000    0.000000    0.000000\n",
       "25%      6.000000   23.000000   11.750000    0.000000\n",
       "50%     12.000000   26.000000   29.500000    1.500000\n",
       "75%     18.000000   29.000000   62.000000    8.250000\n",
       "max     23.000000   41.000000  282.000000  181.000000"
      ]
     },
     "execution_count": 5,
     "metadata": {},
     "output_type": "execute_result"
    }
   ],
   "source": [
    "women.describe()"
   ]
  },
  {
   "cell_type": "code",
   "execution_count": 6,
   "id": "34720643",
   "metadata": {
    "ExecuteTime": {
     "end_time": "2022-06-20T10:01:08.660932Z",
     "start_time": "2022-06-20T10:01:08.430562Z"
    }
   },
   "outputs": [
    {
     "data": {
      "text/plain": [
       "Squad no.      int64\n",
       "Country       object\n",
       "Pos.          object\n",
       "Player        object\n",
       "DOB           object\n",
       "Age            int64\n",
       "Caps         float64\n",
       "Goals        float64\n",
       "Club          object\n",
       "dtype: object"
      ]
     },
     "execution_count": 6,
     "metadata": {},
     "output_type": "execute_result"
    }
   ],
   "source": [
    "women.dtypes"
   ]
  },
  {
   "cell_type": "markdown",
   "id": "8dd1e229",
   "metadata": {},
   "source": [
    "### CONVERTIR A DUMMY\n",
    "\n",
    "Anem a normalitzar els atributs categòrics en dummy, això vol dir que convertirem els valors en 0 i 1, creant un nou dataset que concatenarem amb el dataset original per poder-los treballar més fàcilment."
   ]
  },
  {
   "cell_type": "code",
   "execution_count": 7,
   "id": "5da1ebf5",
   "metadata": {
    "ExecuteTime": {
     "end_time": "2022-06-20T10:01:08.913872Z",
     "start_time": "2022-06-20T10:01:08.666922Z"
    }
   },
   "outputs": [
    {
     "data": {
      "text/html": [
       "<div>\n",
       "<style scoped>\n",
       "    .dataframe tbody tr th:only-of-type {\n",
       "        vertical-align: middle;\n",
       "    }\n",
       "\n",
       "    .dataframe tbody tr th {\n",
       "        vertical-align: top;\n",
       "    }\n",
       "\n",
       "    .dataframe thead th {\n",
       "        text-align: right;\n",
       "    }\n",
       "</style>\n",
       "<table border=\"1\" class=\"dataframe\">\n",
       "  <thead>\n",
       "    <tr style=\"text-align: right;\">\n",
       "      <th></th>\n",
       "      <th>Argentina</th>\n",
       "      <th>Australia</th>\n",
       "      <th>Brazil</th>\n",
       "      <th>Cameroon</th>\n",
       "      <th>Canada</th>\n",
       "      <th>Chile</th>\n",
       "      <th>China PR</th>\n",
       "      <th>England</th>\n",
       "      <th>France</th>\n",
       "      <th>Germany</th>\n",
       "      <th>...</th>\n",
       "      <th>New Zealand</th>\n",
       "      <th>Nigeria</th>\n",
       "      <th>Norway</th>\n",
       "      <th>Scotland</th>\n",
       "      <th>South Africa</th>\n",
       "      <th>South Korea</th>\n",
       "      <th>Spain</th>\n",
       "      <th>Sweden</th>\n",
       "      <th>Thailand</th>\n",
       "      <th>US</th>\n",
       "    </tr>\n",
       "  </thead>\n",
       "  <tbody>\n",
       "    <tr>\n",
       "      <th>0</th>\n",
       "      <td>0</td>\n",
       "      <td>0</td>\n",
       "      <td>0</td>\n",
       "      <td>0</td>\n",
       "      <td>0</td>\n",
       "      <td>0</td>\n",
       "      <td>0</td>\n",
       "      <td>0</td>\n",
       "      <td>0</td>\n",
       "      <td>0</td>\n",
       "      <td>...</td>\n",
       "      <td>0</td>\n",
       "      <td>0</td>\n",
       "      <td>0</td>\n",
       "      <td>0</td>\n",
       "      <td>0</td>\n",
       "      <td>0</td>\n",
       "      <td>0</td>\n",
       "      <td>0</td>\n",
       "      <td>0</td>\n",
       "      <td>1</td>\n",
       "    </tr>\n",
       "    <tr>\n",
       "      <th>1</th>\n",
       "      <td>0</td>\n",
       "      <td>0</td>\n",
       "      <td>0</td>\n",
       "      <td>0</td>\n",
       "      <td>0</td>\n",
       "      <td>0</td>\n",
       "      <td>0</td>\n",
       "      <td>0</td>\n",
       "      <td>0</td>\n",
       "      <td>0</td>\n",
       "      <td>...</td>\n",
       "      <td>0</td>\n",
       "      <td>0</td>\n",
       "      <td>0</td>\n",
       "      <td>0</td>\n",
       "      <td>0</td>\n",
       "      <td>0</td>\n",
       "      <td>0</td>\n",
       "      <td>0</td>\n",
       "      <td>0</td>\n",
       "      <td>1</td>\n",
       "    </tr>\n",
       "    <tr>\n",
       "      <th>2</th>\n",
       "      <td>0</td>\n",
       "      <td>0</td>\n",
       "      <td>0</td>\n",
       "      <td>0</td>\n",
       "      <td>0</td>\n",
       "      <td>0</td>\n",
       "      <td>0</td>\n",
       "      <td>0</td>\n",
       "      <td>0</td>\n",
       "      <td>0</td>\n",
       "      <td>...</td>\n",
       "      <td>0</td>\n",
       "      <td>0</td>\n",
       "      <td>0</td>\n",
       "      <td>0</td>\n",
       "      <td>0</td>\n",
       "      <td>0</td>\n",
       "      <td>0</td>\n",
       "      <td>0</td>\n",
       "      <td>0</td>\n",
       "      <td>1</td>\n",
       "    </tr>\n",
       "    <tr>\n",
       "      <th>3</th>\n",
       "      <td>0</td>\n",
       "      <td>0</td>\n",
       "      <td>0</td>\n",
       "      <td>0</td>\n",
       "      <td>0</td>\n",
       "      <td>0</td>\n",
       "      <td>0</td>\n",
       "      <td>0</td>\n",
       "      <td>0</td>\n",
       "      <td>0</td>\n",
       "      <td>...</td>\n",
       "      <td>0</td>\n",
       "      <td>0</td>\n",
       "      <td>0</td>\n",
       "      <td>0</td>\n",
       "      <td>0</td>\n",
       "      <td>0</td>\n",
       "      <td>0</td>\n",
       "      <td>0</td>\n",
       "      <td>0</td>\n",
       "      <td>1</td>\n",
       "    </tr>\n",
       "    <tr>\n",
       "      <th>4</th>\n",
       "      <td>0</td>\n",
       "      <td>0</td>\n",
       "      <td>0</td>\n",
       "      <td>0</td>\n",
       "      <td>0</td>\n",
       "      <td>0</td>\n",
       "      <td>0</td>\n",
       "      <td>0</td>\n",
       "      <td>0</td>\n",
       "      <td>0</td>\n",
       "      <td>...</td>\n",
       "      <td>0</td>\n",
       "      <td>0</td>\n",
       "      <td>0</td>\n",
       "      <td>0</td>\n",
       "      <td>0</td>\n",
       "      <td>0</td>\n",
       "      <td>0</td>\n",
       "      <td>0</td>\n",
       "      <td>0</td>\n",
       "      <td>1</td>\n",
       "    </tr>\n",
       "  </tbody>\n",
       "</table>\n",
       "<p>5 rows × 24 columns</p>\n",
       "</div>"
      ],
      "text/plain": [
       "   Argentina  Australia  Brazil  Cameroon  Canada  Chile  China PR  England  \\\n",
       "0          0          0       0         0       0      0         0        0   \n",
       "1          0          0       0         0       0      0         0        0   \n",
       "2          0          0       0         0       0      0         0        0   \n",
       "3          0          0       0         0       0      0         0        0   \n",
       "4          0          0       0         0       0      0         0        0   \n",
       "\n",
       "   France  Germany  ...  New Zealand  Nigeria  Norway  Scotland  South Africa  \\\n",
       "0       0        0  ...            0        0       0         0             0   \n",
       "1       0        0  ...            0        0       0         0             0   \n",
       "2       0        0  ...            0        0       0         0             0   \n",
       "3       0        0  ...            0        0       0         0             0   \n",
       "4       0        0  ...            0        0       0         0             0   \n",
       "\n",
       "   South Korea  Spain  Sweden  Thailand  US  \n",
       "0            0      0       0         0   1  \n",
       "1            0      0       0         0   1  \n",
       "2            0      0       0         0   1  \n",
       "3            0      0       0         0   1  \n",
       "4            0      0       0         0   1  \n",
       "\n",
       "[5 rows x 24 columns]"
      ]
     },
     "execution_count": 7,
     "metadata": {},
     "output_type": "execute_result"
    }
   ],
   "source": [
    "# Imprimint els tipus en la línia anterior, sabem quins hem de convertir en dummys, ho faré un per un per veure com funciona cada columna\n",
    "dummyCountry = pd.get_dummies(women[\"Country\"])\n",
    "dummyCountry.head()"
   ]
  },
  {
   "cell_type": "code",
   "execution_count": 8,
   "id": "800e49b3",
   "metadata": {
    "ExecuteTime": {
     "end_time": "2022-06-20T10:01:09.354409Z",
     "start_time": "2022-06-20T10:01:08.919867Z"
    }
   },
   "outputs": [
    {
     "data": {
      "text/html": [
       "<div>\n",
       "<style scoped>\n",
       "    .dataframe tbody tr th:only-of-type {\n",
       "        vertical-align: middle;\n",
       "    }\n",
       "\n",
       "    .dataframe tbody tr th {\n",
       "        vertical-align: top;\n",
       "    }\n",
       "\n",
       "    .dataframe thead th {\n",
       "        text-align: right;\n",
       "    }\n",
       "</style>\n",
       "<table border=\"1\" class=\"dataframe\">\n",
       "  <thead>\n",
       "    <tr style=\"text-align: right;\">\n",
       "      <th></th>\n",
       "      <th>DF</th>\n",
       "      <th>FW</th>\n",
       "      <th>GK</th>\n",
       "      <th>MF</th>\n",
       "    </tr>\n",
       "  </thead>\n",
       "  <tbody>\n",
       "    <tr>\n",
       "      <th>0</th>\n",
       "      <td>0</td>\n",
       "      <td>0</td>\n",
       "      <td>1</td>\n",
       "      <td>0</td>\n",
       "    </tr>\n",
       "    <tr>\n",
       "      <th>1</th>\n",
       "      <td>0</td>\n",
       "      <td>1</td>\n",
       "      <td>0</td>\n",
       "      <td>0</td>\n",
       "    </tr>\n",
       "    <tr>\n",
       "      <th>2</th>\n",
       "      <td>0</td>\n",
       "      <td>0</td>\n",
       "      <td>0</td>\n",
       "      <td>1</td>\n",
       "    </tr>\n",
       "    <tr>\n",
       "      <th>3</th>\n",
       "      <td>1</td>\n",
       "      <td>0</td>\n",
       "      <td>0</td>\n",
       "      <td>0</td>\n",
       "    </tr>\n",
       "    <tr>\n",
       "      <th>4</th>\n",
       "      <td>1</td>\n",
       "      <td>0</td>\n",
       "      <td>0</td>\n",
       "      <td>0</td>\n",
       "    </tr>\n",
       "  </tbody>\n",
       "</table>\n",
       "</div>"
      ],
      "text/plain": [
       "   DF  FW  GK  MF\n",
       "0   0   0   1   0\n",
       "1   0   1   0   0\n",
       "2   0   0   0   1\n",
       "3   1   0   0   0\n",
       "4   1   0   0   0"
      ]
     },
     "execution_count": 8,
     "metadata": {},
     "output_type": "execute_result"
    }
   ],
   "source": [
    "dummyPosition = pd.get_dummies(women[\"Pos.\"])\n",
    "dummyPosition.head()"
   ]
  },
  {
   "cell_type": "code",
   "execution_count": 9,
   "id": "aa13b784",
   "metadata": {
    "ExecuteTime": {
     "end_time": "2022-06-20T10:01:09.589429Z",
     "start_time": "2022-06-20T10:01:09.361401Z"
    }
   },
   "outputs": [
    {
     "data": {
      "text/html": [
       "<div>\n",
       "<style scoped>\n",
       "    .dataframe tbody tr th:only-of-type {\n",
       "        vertical-align: middle;\n",
       "    }\n",
       "\n",
       "    .dataframe tbody tr th {\n",
       "        vertical-align: top;\n",
       "    }\n",
       "\n",
       "    .dataframe thead th {\n",
       "        text-align: right;\n",
       "    }\n",
       "</style>\n",
       "<table border=\"1\" class=\"dataframe\">\n",
       "  <thead>\n",
       "    <tr style=\"text-align: right;\">\n",
       "      <th></th>\n",
       "      <th>Abbie McManus</th>\n",
       "      <th>Abby Dahlkemper</th>\n",
       "      <th>Abby Erceg</th>\n",
       "      <th>Adriana Leon</th>\n",
       "      <th>Adriana Sachs</th>\n",
       "      <th>Adrianna Franch</th>\n",
       "      <th>Agustina Barroso</th>\n",
       "      <th>Ainon Phancha</th>\n",
       "      <th>Aitana Bonmatí</th>\n",
       "      <th>Aivi Luik</th>\n",
       "      <th>...</th>\n",
       "      <th>Yessenia López</th>\n",
       "      <th>Yui Hasegawa</th>\n",
       "      <th>Yuika Sugasawa</th>\n",
       "      <th>Yuka Momiki</th>\n",
       "      <th>Yvonne Leuko</th>\n",
       "      <th>Ze?ira Muovi?</th>\n",
       "      <th>Zhang Rui</th>\n",
       "      <th>Ève Périsset</th>\n",
       "      <th>Élise Bussaglia</th>\n",
       "      <th>Érika</th>\n",
       "    </tr>\n",
       "  </thead>\n",
       "  <tbody>\n",
       "    <tr>\n",
       "      <th>0</th>\n",
       "      <td>0</td>\n",
       "      <td>0</td>\n",
       "      <td>0</td>\n",
       "      <td>0</td>\n",
       "      <td>0</td>\n",
       "      <td>0</td>\n",
       "      <td>0</td>\n",
       "      <td>0</td>\n",
       "      <td>0</td>\n",
       "      <td>0</td>\n",
       "      <td>...</td>\n",
       "      <td>0</td>\n",
       "      <td>0</td>\n",
       "      <td>0</td>\n",
       "      <td>0</td>\n",
       "      <td>0</td>\n",
       "      <td>0</td>\n",
       "      <td>0</td>\n",
       "      <td>0</td>\n",
       "      <td>0</td>\n",
       "      <td>0</td>\n",
       "    </tr>\n",
       "    <tr>\n",
       "      <th>1</th>\n",
       "      <td>0</td>\n",
       "      <td>0</td>\n",
       "      <td>0</td>\n",
       "      <td>0</td>\n",
       "      <td>0</td>\n",
       "      <td>0</td>\n",
       "      <td>0</td>\n",
       "      <td>0</td>\n",
       "      <td>0</td>\n",
       "      <td>0</td>\n",
       "      <td>...</td>\n",
       "      <td>0</td>\n",
       "      <td>0</td>\n",
       "      <td>0</td>\n",
       "      <td>0</td>\n",
       "      <td>0</td>\n",
       "      <td>0</td>\n",
       "      <td>0</td>\n",
       "      <td>0</td>\n",
       "      <td>0</td>\n",
       "      <td>0</td>\n",
       "    </tr>\n",
       "    <tr>\n",
       "      <th>2</th>\n",
       "      <td>0</td>\n",
       "      <td>0</td>\n",
       "      <td>0</td>\n",
       "      <td>0</td>\n",
       "      <td>0</td>\n",
       "      <td>0</td>\n",
       "      <td>0</td>\n",
       "      <td>0</td>\n",
       "      <td>0</td>\n",
       "      <td>0</td>\n",
       "      <td>...</td>\n",
       "      <td>0</td>\n",
       "      <td>0</td>\n",
       "      <td>0</td>\n",
       "      <td>0</td>\n",
       "      <td>0</td>\n",
       "      <td>0</td>\n",
       "      <td>0</td>\n",
       "      <td>0</td>\n",
       "      <td>0</td>\n",
       "      <td>0</td>\n",
       "    </tr>\n",
       "    <tr>\n",
       "      <th>3</th>\n",
       "      <td>0</td>\n",
       "      <td>0</td>\n",
       "      <td>0</td>\n",
       "      <td>0</td>\n",
       "      <td>0</td>\n",
       "      <td>0</td>\n",
       "      <td>0</td>\n",
       "      <td>0</td>\n",
       "      <td>0</td>\n",
       "      <td>0</td>\n",
       "      <td>...</td>\n",
       "      <td>0</td>\n",
       "      <td>0</td>\n",
       "      <td>0</td>\n",
       "      <td>0</td>\n",
       "      <td>0</td>\n",
       "      <td>0</td>\n",
       "      <td>0</td>\n",
       "      <td>0</td>\n",
       "      <td>0</td>\n",
       "      <td>0</td>\n",
       "    </tr>\n",
       "    <tr>\n",
       "      <th>4</th>\n",
       "      <td>0</td>\n",
       "      <td>0</td>\n",
       "      <td>0</td>\n",
       "      <td>0</td>\n",
       "      <td>0</td>\n",
       "      <td>0</td>\n",
       "      <td>0</td>\n",
       "      <td>0</td>\n",
       "      <td>0</td>\n",
       "      <td>0</td>\n",
       "      <td>...</td>\n",
       "      <td>0</td>\n",
       "      <td>0</td>\n",
       "      <td>0</td>\n",
       "      <td>0</td>\n",
       "      <td>0</td>\n",
       "      <td>0</td>\n",
       "      <td>0</td>\n",
       "      <td>0</td>\n",
       "      <td>0</td>\n",
       "      <td>0</td>\n",
       "    </tr>\n",
       "  </tbody>\n",
       "</table>\n",
       "<p>5 rows × 520 columns</p>\n",
       "</div>"
      ],
      "text/plain": [
       "   Abbie McManus  Abby Dahlkemper  Abby Erceg  Adriana Leon  Adriana Sachs  \\\n",
       "0              0                0           0             0              0   \n",
       "1              0                0           0             0              0   \n",
       "2              0                0           0             0              0   \n",
       "3              0                0           0             0              0   \n",
       "4              0                0           0             0              0   \n",
       "\n",
       "   Adrianna Franch  Agustina Barroso  Ainon Phancha  Aitana Bonmatí  \\\n",
       "0                0                 0              0               0   \n",
       "1                0                 0              0               0   \n",
       "2                0                 0              0               0   \n",
       "3                0                 0              0               0   \n",
       "4                0                 0              0               0   \n",
       "\n",
       "   Aivi Luik  ...  Yessenia López  Yui Hasegawa  Yuika Sugasawa  Yuka Momiki  \\\n",
       "0          0  ...               0             0               0            0   \n",
       "1          0  ...               0             0               0            0   \n",
       "2          0  ...               0             0               0            0   \n",
       "3          0  ...               0             0               0            0   \n",
       "4          0  ...               0             0               0            0   \n",
       "\n",
       "   Yvonne Leuko  Ze?ira Muovi?  Zhang Rui  Ève Périsset  Élise Bussaglia  \\\n",
       "0             0               0          0             0                0   \n",
       "1             0               0          0             0                0   \n",
       "2             0               0          0             0                0   \n",
       "3             0               0          0             0                0   \n",
       "4             0               0          0             0                0   \n",
       "\n",
       "   Érika  \n",
       "0      0  \n",
       "1      0  \n",
       "2      0  \n",
       "3      0  \n",
       "4      0  \n",
       "\n",
       "[5 rows x 520 columns]"
      ]
     },
     "execution_count": 9,
     "metadata": {},
     "output_type": "execute_result"
    }
   ],
   "source": [
    "dummyPlayer = pd.get_dummies(women[\"Player\"])\n",
    "dummyPlayer.head()"
   ]
  },
  {
   "cell_type": "code",
   "execution_count": 10,
   "id": "c0846dd1",
   "metadata": {
    "ExecuteTime": {
     "end_time": "2022-06-20T10:01:09.778774Z",
     "start_time": "2022-06-20T10:01:09.591426Z"
    }
   },
   "outputs": [
    {
     "data": {
      "text/html": [
       "<div>\n",
       "<style scoped>\n",
       "    .dataframe tbody tr th:only-of-type {\n",
       "        vertical-align: middle;\n",
       "    }\n",
       "\n",
       "    .dataframe tbody tr th {\n",
       "        vertical-align: top;\n",
       "    }\n",
       "\n",
       "    .dataframe thead th {\n",
       "        text-align: right;\n",
       "    }\n",
       "</style>\n",
       "<table border=\"1\" class=\"dataframe\">\n",
       "  <thead>\n",
       "    <tr style=\"text-align: right;\">\n",
       "      <th></th>\n",
       "      <th>01-abr-95</th>\n",
       "      <th>01-abr-97</th>\n",
       "      <th>01-ago-87</th>\n",
       "      <th>01-dic-94</th>\n",
       "      <th>01-dic-95</th>\n",
       "      <th>01-feb-88</th>\n",
       "      <th>01-feb-89</th>\n",
       "      <th>01-jul-90</th>\n",
       "      <th>01-jul-91</th>\n",
       "      <th>01-jul-98</th>\n",
       "      <th>...</th>\n",
       "      <th>30-sep-85</th>\n",
       "      <th>30-sep-94</th>\n",
       "      <th>31-ago-99</th>\n",
       "      <th>31-dic-96</th>\n",
       "      <th>31-ene-90</th>\n",
       "      <th>31-ene-91</th>\n",
       "      <th>31-ene-97</th>\n",
       "      <th>31-jul-87</th>\n",
       "      <th>31-mar-95</th>\n",
       "      <th>31-may-94</th>\n",
       "    </tr>\n",
       "  </thead>\n",
       "  <tbody>\n",
       "    <tr>\n",
       "      <th>0</th>\n",
       "      <td>0</td>\n",
       "      <td>0</td>\n",
       "      <td>0</td>\n",
       "      <td>0</td>\n",
       "      <td>0</td>\n",
       "      <td>0</td>\n",
       "      <td>0</td>\n",
       "      <td>0</td>\n",
       "      <td>0</td>\n",
       "      <td>0</td>\n",
       "      <td>...</td>\n",
       "      <td>0</td>\n",
       "      <td>0</td>\n",
       "      <td>0</td>\n",
       "      <td>0</td>\n",
       "      <td>0</td>\n",
       "      <td>0</td>\n",
       "      <td>0</td>\n",
       "      <td>0</td>\n",
       "      <td>0</td>\n",
       "      <td>0</td>\n",
       "    </tr>\n",
       "    <tr>\n",
       "      <th>1</th>\n",
       "      <td>0</td>\n",
       "      <td>0</td>\n",
       "      <td>0</td>\n",
       "      <td>0</td>\n",
       "      <td>0</td>\n",
       "      <td>0</td>\n",
       "      <td>0</td>\n",
       "      <td>0</td>\n",
       "      <td>0</td>\n",
       "      <td>0</td>\n",
       "      <td>...</td>\n",
       "      <td>0</td>\n",
       "      <td>0</td>\n",
       "      <td>0</td>\n",
       "      <td>0</td>\n",
       "      <td>0</td>\n",
       "      <td>0</td>\n",
       "      <td>0</td>\n",
       "      <td>0</td>\n",
       "      <td>0</td>\n",
       "      <td>0</td>\n",
       "    </tr>\n",
       "    <tr>\n",
       "      <th>2</th>\n",
       "      <td>0</td>\n",
       "      <td>0</td>\n",
       "      <td>0</td>\n",
       "      <td>0</td>\n",
       "      <td>0</td>\n",
       "      <td>0</td>\n",
       "      <td>0</td>\n",
       "      <td>0</td>\n",
       "      <td>0</td>\n",
       "      <td>0</td>\n",
       "      <td>...</td>\n",
       "      <td>0</td>\n",
       "      <td>0</td>\n",
       "      <td>0</td>\n",
       "      <td>0</td>\n",
       "      <td>0</td>\n",
       "      <td>0</td>\n",
       "      <td>0</td>\n",
       "      <td>0</td>\n",
       "      <td>0</td>\n",
       "      <td>0</td>\n",
       "    </tr>\n",
       "    <tr>\n",
       "      <th>3</th>\n",
       "      <td>0</td>\n",
       "      <td>0</td>\n",
       "      <td>0</td>\n",
       "      <td>0</td>\n",
       "      <td>0</td>\n",
       "      <td>0</td>\n",
       "      <td>0</td>\n",
       "      <td>0</td>\n",
       "      <td>0</td>\n",
       "      <td>0</td>\n",
       "      <td>...</td>\n",
       "      <td>0</td>\n",
       "      <td>0</td>\n",
       "      <td>0</td>\n",
       "      <td>0</td>\n",
       "      <td>0</td>\n",
       "      <td>0</td>\n",
       "      <td>0</td>\n",
       "      <td>0</td>\n",
       "      <td>0</td>\n",
       "      <td>0</td>\n",
       "    </tr>\n",
       "    <tr>\n",
       "      <th>4</th>\n",
       "      <td>0</td>\n",
       "      <td>0</td>\n",
       "      <td>0</td>\n",
       "      <td>0</td>\n",
       "      <td>0</td>\n",
       "      <td>0</td>\n",
       "      <td>0</td>\n",
       "      <td>0</td>\n",
       "      <td>0</td>\n",
       "      <td>0</td>\n",
       "      <td>...</td>\n",
       "      <td>0</td>\n",
       "      <td>0</td>\n",
       "      <td>0</td>\n",
       "      <td>0</td>\n",
       "      <td>0</td>\n",
       "      <td>0</td>\n",
       "      <td>0</td>\n",
       "      <td>0</td>\n",
       "      <td>0</td>\n",
       "      <td>0</td>\n",
       "    </tr>\n",
       "  </tbody>\n",
       "</table>\n",
       "<p>5 rows × 493 columns</p>\n",
       "</div>"
      ],
      "text/plain": [
       "   01-abr-95  01-abr-97  01-ago-87  01-dic-94  01-dic-95  01-feb-88  \\\n",
       "0          0          0          0          0          0          0   \n",
       "1          0          0          0          0          0          0   \n",
       "2          0          0          0          0          0          0   \n",
       "3          0          0          0          0          0          0   \n",
       "4          0          0          0          0          0          0   \n",
       "\n",
       "   01-feb-89  01-jul-90  01-jul-91  01-jul-98  ...  30-sep-85  30-sep-94  \\\n",
       "0          0          0          0          0  ...          0          0   \n",
       "1          0          0          0          0  ...          0          0   \n",
       "2          0          0          0          0  ...          0          0   \n",
       "3          0          0          0          0  ...          0          0   \n",
       "4          0          0          0          0  ...          0          0   \n",
       "\n",
       "   31-ago-99  31-dic-96  31-ene-90  31-ene-91  31-ene-97  31-jul-87  \\\n",
       "0          0          0          0          0          0          0   \n",
       "1          0          0          0          0          0          0   \n",
       "2          0          0          0          0          0          0   \n",
       "3          0          0          0          0          0          0   \n",
       "4          0          0          0          0          0          0   \n",
       "\n",
       "   31-mar-95  31-may-94  \n",
       "0          0          0  \n",
       "1          0          0  \n",
       "2          0          0  \n",
       "3          0          0  \n",
       "4          0          0  \n",
       "\n",
       "[5 rows x 493 columns]"
      ]
     },
     "execution_count": 10,
     "metadata": {},
     "output_type": "execute_result"
    }
   ],
   "source": [
    "dummyDOB = pd.get_dummies(women[\"DOB\"])\n",
    "dummyDOB.head()"
   ]
  },
  {
   "cell_type": "code",
   "execution_count": 11,
   "id": "209d5e03",
   "metadata": {
    "ExecuteTime": {
     "end_time": "2022-06-20T10:01:09.967154Z",
     "start_time": "2022-06-20T10:01:09.780772Z"
    }
   },
   "outputs": [
    {
     "data": {
      "text/html": [
       "<div>\n",
       "<style scoped>\n",
       "    .dataframe tbody tr th:only-of-type {\n",
       "        vertical-align: middle;\n",
       "    }\n",
       "\n",
       "    .dataframe tbody tr th {\n",
       "        vertical-align: top;\n",
       "    }\n",
       "\n",
       "    .dataframe thead th {\n",
       "        text-align: right;\n",
       "    }\n",
       "</style>\n",
       "<table border=\"1\" class=\"dataframe\">\n",
       "  <thead>\n",
       "    <tr style=\"text-align: right;\">\n",
       "      <th></th>\n",
       "      <th>1. FFC Frankfurt</th>\n",
       "      <th>3B da Amazônia [pt]</th>\n",
       "      <th>AC Nagano Parceiro</th>\n",
       "      <th>ADO Den Haag</th>\n",
       "      <th>AWA Yaoundé</th>\n",
       "      <th>Air Force United</th>\n",
       "      <th>Ajax</th>\n",
       "      <th>Albirex Niigata</th>\n",
       "      <th>Amazone FAP</th>\n",
       "      <th>Ambilly [fr]</th>\n",
       "      <th>...</th>\n",
       "      <th>Vittsjö</th>\n",
       "      <th>Växjö</th>\n",
       "      <th>Vålerenga</th>\n",
       "      <th>Washington Spirit</th>\n",
       "      <th>West Florida Argonauts</th>\n",
       "      <th>West Ham United</th>\n",
       "      <th>Western Springs</th>\n",
       "      <th>Wolfsburg</th>\n",
       "      <th>Wuhan Jianghan University [zh]</th>\n",
       "      <th>Zaragoza</th>\n",
       "    </tr>\n",
       "  </thead>\n",
       "  <tbody>\n",
       "    <tr>\n",
       "      <th>0</th>\n",
       "      <td>0</td>\n",
       "      <td>0</td>\n",
       "      <td>0</td>\n",
       "      <td>0</td>\n",
       "      <td>0</td>\n",
       "      <td>0</td>\n",
       "      <td>0</td>\n",
       "      <td>0</td>\n",
       "      <td>0</td>\n",
       "      <td>0</td>\n",
       "      <td>...</td>\n",
       "      <td>0</td>\n",
       "      <td>0</td>\n",
       "      <td>0</td>\n",
       "      <td>0</td>\n",
       "      <td>0</td>\n",
       "      <td>0</td>\n",
       "      <td>0</td>\n",
       "      <td>0</td>\n",
       "      <td>0</td>\n",
       "      <td>0</td>\n",
       "    </tr>\n",
       "    <tr>\n",
       "      <th>1</th>\n",
       "      <td>0</td>\n",
       "      <td>0</td>\n",
       "      <td>0</td>\n",
       "      <td>0</td>\n",
       "      <td>0</td>\n",
       "      <td>0</td>\n",
       "      <td>0</td>\n",
       "      <td>0</td>\n",
       "      <td>0</td>\n",
       "      <td>0</td>\n",
       "      <td>...</td>\n",
       "      <td>0</td>\n",
       "      <td>0</td>\n",
       "      <td>0</td>\n",
       "      <td>1</td>\n",
       "      <td>0</td>\n",
       "      <td>0</td>\n",
       "      <td>0</td>\n",
       "      <td>0</td>\n",
       "      <td>0</td>\n",
       "      <td>0</td>\n",
       "    </tr>\n",
       "    <tr>\n",
       "      <th>2</th>\n",
       "      <td>0</td>\n",
       "      <td>0</td>\n",
       "      <td>0</td>\n",
       "      <td>0</td>\n",
       "      <td>0</td>\n",
       "      <td>0</td>\n",
       "      <td>0</td>\n",
       "      <td>0</td>\n",
       "      <td>0</td>\n",
       "      <td>0</td>\n",
       "      <td>...</td>\n",
       "      <td>0</td>\n",
       "      <td>0</td>\n",
       "      <td>0</td>\n",
       "      <td>0</td>\n",
       "      <td>0</td>\n",
       "      <td>0</td>\n",
       "      <td>0</td>\n",
       "      <td>0</td>\n",
       "      <td>0</td>\n",
       "      <td>0</td>\n",
       "    </tr>\n",
       "    <tr>\n",
       "      <th>3</th>\n",
       "      <td>0</td>\n",
       "      <td>0</td>\n",
       "      <td>0</td>\n",
       "      <td>0</td>\n",
       "      <td>0</td>\n",
       "      <td>0</td>\n",
       "      <td>0</td>\n",
       "      <td>0</td>\n",
       "      <td>0</td>\n",
       "      <td>0</td>\n",
       "      <td>...</td>\n",
       "      <td>0</td>\n",
       "      <td>0</td>\n",
       "      <td>0</td>\n",
       "      <td>0</td>\n",
       "      <td>0</td>\n",
       "      <td>0</td>\n",
       "      <td>0</td>\n",
       "      <td>0</td>\n",
       "      <td>0</td>\n",
       "      <td>0</td>\n",
       "    </tr>\n",
       "    <tr>\n",
       "      <th>4</th>\n",
       "      <td>0</td>\n",
       "      <td>0</td>\n",
       "      <td>0</td>\n",
       "      <td>0</td>\n",
       "      <td>0</td>\n",
       "      <td>0</td>\n",
       "      <td>0</td>\n",
       "      <td>0</td>\n",
       "      <td>0</td>\n",
       "      <td>0</td>\n",
       "      <td>...</td>\n",
       "      <td>0</td>\n",
       "      <td>0</td>\n",
       "      <td>0</td>\n",
       "      <td>0</td>\n",
       "      <td>0</td>\n",
       "      <td>0</td>\n",
       "      <td>0</td>\n",
       "      <td>0</td>\n",
       "      <td>0</td>\n",
       "      <td>0</td>\n",
       "    </tr>\n",
       "  </tbody>\n",
       "</table>\n",
       "<p>5 rows × 180 columns</p>\n",
       "</div>"
      ],
      "text/plain": [
       "   1. FFC Frankfurt  3B da Amazônia [pt]  AC Nagano Parceiro  ADO Den Haag  \\\n",
       "0                 0                    0                   0             0   \n",
       "1                 0                    0                   0             0   \n",
       "2                 0                    0                   0             0   \n",
       "3                 0                    0                   0             0   \n",
       "4                 0                    0                   0             0   \n",
       "\n",
       "   AWA Yaoundé  Air Force United  Ajax  Albirex Niigata  Amazone FAP  \\\n",
       "0            0                 0     0                0            0   \n",
       "1            0                 0     0                0            0   \n",
       "2            0                 0     0                0            0   \n",
       "3            0                 0     0                0            0   \n",
       "4            0                 0     0                0            0   \n",
       "\n",
       "   Ambilly [fr]  ...  Vittsjö  Växjö  Vålerenga  Washington Spirit  \\\n",
       "0             0  ...        0      0          0                  0   \n",
       "1             0  ...        0      0          0                  1   \n",
       "2             0  ...        0      0          0                  0   \n",
       "3             0  ...        0      0          0                  0   \n",
       "4             0  ...        0      0          0                  0   \n",
       "\n",
       "   West Florida Argonauts  West Ham United  Western Springs  Wolfsburg  \\\n",
       "0                       0                0                0          0   \n",
       "1                       0                0                0          0   \n",
       "2                       0                0                0          0   \n",
       "3                       0                0                0          0   \n",
       "4                       0                0                0          0   \n",
       "\n",
       "   Wuhan Jianghan University [zh]  Zaragoza  \n",
       "0                               0         0  \n",
       "1                               0         0  \n",
       "2                               0         0  \n",
       "3                               0         0  \n",
       "4                               0         0  \n",
       "\n",
       "[5 rows x 180 columns]"
      ]
     },
     "execution_count": 11,
     "metadata": {},
     "output_type": "execute_result"
    }
   ],
   "source": [
    "dummyClub = pd.get_dummies(women[\"Club\"])\n",
    "dummyClub.head()"
   ]
  },
  {
   "cell_type": "markdown",
   "id": "8d02325c",
   "metadata": {},
   "source": [
    "Veiem que hi ha atributs que s'han convertit en 520 columnes, això passa perquè per exemple, els només de les jugadores són únics. \n",
    "No acabo d'entendre quina finalitat podria tenir convertir aquest atribu en dummy.\n",
    "Per exemple, però, si que podria entendre el de la data de naixament (DOB) o el del club, ja que ens podria ajudar a treure estadísitques i conclusions interessants (per exemple, la majoria d'esportistes professionals són nascuts entre el gener i el juny, això passa perquè eren els grans de la seva edat, destacaven més quan eren petits i per això solen arribar més lluny, per un cúmul d'aptetar-los/animar-los més, per les capacitats que tenien, per la confiança en ells, etc)"
   ]
  },
  {
   "cell_type": "markdown",
   "id": "31339bc2",
   "metadata": {},
   "source": [
    "Concatenaré els nous dataframes amb l'original, per veure com canvia el format de l'original, sobretot en la forma i tamany."
   ]
  },
  {
   "cell_type": "code",
   "execution_count": 12,
   "id": "2b68c740",
   "metadata": {
    "ExecuteTime": {
     "end_time": "2022-06-20T10:01:10.186946Z",
     "start_time": "2022-06-20T10:01:09.970153Z"
    }
   },
   "outputs": [
    {
     "data": {
      "text/html": [
       "<div>\n",
       "<style scoped>\n",
       "    .dataframe tbody tr th:only-of-type {\n",
       "        vertical-align: middle;\n",
       "    }\n",
       "\n",
       "    .dataframe tbody tr th {\n",
       "        vertical-align: top;\n",
       "    }\n",
       "\n",
       "    .dataframe thead th {\n",
       "        text-align: right;\n",
       "    }\n",
       "</style>\n",
       "<table border=\"1\" class=\"dataframe\">\n",
       "  <thead>\n",
       "    <tr style=\"text-align: right;\">\n",
       "      <th></th>\n",
       "      <th>Squad no.</th>\n",
       "      <th>Country</th>\n",
       "      <th>Pos.</th>\n",
       "      <th>Player</th>\n",
       "      <th>DOB</th>\n",
       "      <th>Age</th>\n",
       "      <th>Caps</th>\n",
       "      <th>Goals</th>\n",
       "      <th>Club</th>\n",
       "      <th>Argentina</th>\n",
       "      <th>...</th>\n",
       "      <th>Vittsjö</th>\n",
       "      <th>Växjö</th>\n",
       "      <th>Vålerenga</th>\n",
       "      <th>Washington Spirit</th>\n",
       "      <th>West Florida Argonauts</th>\n",
       "      <th>West Ham United</th>\n",
       "      <th>Western Springs</th>\n",
       "      <th>Wolfsburg</th>\n",
       "      <th>Wuhan Jianghan University [zh]</th>\n",
       "      <th>Zaragoza</th>\n",
       "    </tr>\n",
       "  </thead>\n",
       "  <tbody>\n",
       "    <tr>\n",
       "      <th>0</th>\n",
       "      <td>1</td>\n",
       "      <td>US</td>\n",
       "      <td>GK</td>\n",
       "      <td>Alyssa Naeher</td>\n",
       "      <td>20-abr-88</td>\n",
       "      <td>31</td>\n",
       "      <td>43.0</td>\n",
       "      <td>0.0</td>\n",
       "      <td>Chicago Red Stars</td>\n",
       "      <td>0</td>\n",
       "      <td>...</td>\n",
       "      <td>0</td>\n",
       "      <td>0</td>\n",
       "      <td>0</td>\n",
       "      <td>0</td>\n",
       "      <td>0</td>\n",
       "      <td>0</td>\n",
       "      <td>0</td>\n",
       "      <td>0</td>\n",
       "      <td>0</td>\n",
       "      <td>0</td>\n",
       "    </tr>\n",
       "    <tr>\n",
       "      <th>1</th>\n",
       "      <td>2</td>\n",
       "      <td>US</td>\n",
       "      <td>FW</td>\n",
       "      <td>Mallory Pugh</td>\n",
       "      <td>29-abr-98</td>\n",
       "      <td>21</td>\n",
       "      <td>50.0</td>\n",
       "      <td>15.0</td>\n",
       "      <td>Washington Spirit</td>\n",
       "      <td>0</td>\n",
       "      <td>...</td>\n",
       "      <td>0</td>\n",
       "      <td>0</td>\n",
       "      <td>0</td>\n",
       "      <td>1</td>\n",
       "      <td>0</td>\n",
       "      <td>0</td>\n",
       "      <td>0</td>\n",
       "      <td>0</td>\n",
       "      <td>0</td>\n",
       "      <td>0</td>\n",
       "    </tr>\n",
       "    <tr>\n",
       "      <th>2</th>\n",
       "      <td>3</td>\n",
       "      <td>US</td>\n",
       "      <td>MF</td>\n",
       "      <td>Sam Mewis</td>\n",
       "      <td>09-oct-92</td>\n",
       "      <td>26</td>\n",
       "      <td>47.0</td>\n",
       "      <td>9.0</td>\n",
       "      <td>North Carolina Courage</td>\n",
       "      <td>0</td>\n",
       "      <td>...</td>\n",
       "      <td>0</td>\n",
       "      <td>0</td>\n",
       "      <td>0</td>\n",
       "      <td>0</td>\n",
       "      <td>0</td>\n",
       "      <td>0</td>\n",
       "      <td>0</td>\n",
       "      <td>0</td>\n",
       "      <td>0</td>\n",
       "      <td>0</td>\n",
       "    </tr>\n",
       "    <tr>\n",
       "      <th>3</th>\n",
       "      <td>4</td>\n",
       "      <td>US</td>\n",
       "      <td>DF</td>\n",
       "      <td>Becky Sauerbrunn</td>\n",
       "      <td>06-jun-85</td>\n",
       "      <td>34</td>\n",
       "      <td>155.0</td>\n",
       "      <td>0.0</td>\n",
       "      <td>Utah Royals</td>\n",
       "      <td>0</td>\n",
       "      <td>...</td>\n",
       "      <td>0</td>\n",
       "      <td>0</td>\n",
       "      <td>0</td>\n",
       "      <td>0</td>\n",
       "      <td>0</td>\n",
       "      <td>0</td>\n",
       "      <td>0</td>\n",
       "      <td>0</td>\n",
       "      <td>0</td>\n",
       "      <td>0</td>\n",
       "    </tr>\n",
       "    <tr>\n",
       "      <th>4</th>\n",
       "      <td>5</td>\n",
       "      <td>US</td>\n",
       "      <td>DF</td>\n",
       "      <td>Kelley O'Hara</td>\n",
       "      <td>04-ago-88</td>\n",
       "      <td>30</td>\n",
       "      <td>115.0</td>\n",
       "      <td>2.0</td>\n",
       "      <td>Utah Royals</td>\n",
       "      <td>0</td>\n",
       "      <td>...</td>\n",
       "      <td>0</td>\n",
       "      <td>0</td>\n",
       "      <td>0</td>\n",
       "      <td>0</td>\n",
       "      <td>0</td>\n",
       "      <td>0</td>\n",
       "      <td>0</td>\n",
       "      <td>0</td>\n",
       "      <td>0</td>\n",
       "      <td>0</td>\n",
       "    </tr>\n",
       "    <tr>\n",
       "      <th>...</th>\n",
       "      <td>...</td>\n",
       "      <td>...</td>\n",
       "      <td>...</td>\n",
       "      <td>...</td>\n",
       "      <td>...</td>\n",
       "      <td>...</td>\n",
       "      <td>...</td>\n",
       "      <td>...</td>\n",
       "      <td>...</td>\n",
       "      <td>...</td>\n",
       "      <td>...</td>\n",
       "      <td>...</td>\n",
       "      <td>...</td>\n",
       "      <td>...</td>\n",
       "      <td>...</td>\n",
       "      <td>...</td>\n",
       "      <td>...</td>\n",
       "      <td>...</td>\n",
       "      <td>...</td>\n",
       "      <td>...</td>\n",
       "      <td>...</td>\n",
       "    </tr>\n",
       "    <tr>\n",
       "      <th>547</th>\n",
       "      <td>19</td>\n",
       "      <td>France</td>\n",
       "      <td>DF</td>\n",
       "      <td>Griedge Mbock Bathy</td>\n",
       "      <td>26-feb-95</td>\n",
       "      <td>24</td>\n",
       "      <td>49.0</td>\n",
       "      <td>4.0</td>\n",
       "      <td>Lyon</td>\n",
       "      <td>0</td>\n",
       "      <td>...</td>\n",
       "      <td>0</td>\n",
       "      <td>0</td>\n",
       "      <td>0</td>\n",
       "      <td>0</td>\n",
       "      <td>0</td>\n",
       "      <td>0</td>\n",
       "      <td>0</td>\n",
       "      <td>0</td>\n",
       "      <td>0</td>\n",
       "      <td>0</td>\n",
       "    </tr>\n",
       "    <tr>\n",
       "      <th>548</th>\n",
       "      <td>20</td>\n",
       "      <td>France</td>\n",
       "      <td>FW</td>\n",
       "      <td>Delphine Cascarino</td>\n",
       "      <td>05-feb-97</td>\n",
       "      <td>22</td>\n",
       "      <td>11.0</td>\n",
       "      <td>1.0</td>\n",
       "      <td>Lyon</td>\n",
       "      <td>0</td>\n",
       "      <td>...</td>\n",
       "      <td>0</td>\n",
       "      <td>0</td>\n",
       "      <td>0</td>\n",
       "      <td>0</td>\n",
       "      <td>0</td>\n",
       "      <td>0</td>\n",
       "      <td>0</td>\n",
       "      <td>0</td>\n",
       "      <td>0</td>\n",
       "      <td>0</td>\n",
       "    </tr>\n",
       "    <tr>\n",
       "      <th>549</th>\n",
       "      <td>21</td>\n",
       "      <td>France</td>\n",
       "      <td>GK</td>\n",
       "      <td>Pauline Peyraud-Magnin</td>\n",
       "      <td>17-mar-92</td>\n",
       "      <td>27</td>\n",
       "      <td>1.0</td>\n",
       "      <td>0.0</td>\n",
       "      <td>Arsenal</td>\n",
       "      <td>0</td>\n",
       "      <td>...</td>\n",
       "      <td>0</td>\n",
       "      <td>0</td>\n",
       "      <td>0</td>\n",
       "      <td>0</td>\n",
       "      <td>0</td>\n",
       "      <td>0</td>\n",
       "      <td>0</td>\n",
       "      <td>0</td>\n",
       "      <td>0</td>\n",
       "      <td>0</td>\n",
       "    </tr>\n",
       "    <tr>\n",
       "      <th>550</th>\n",
       "      <td>22</td>\n",
       "      <td>France</td>\n",
       "      <td>DF</td>\n",
       "      <td>Julie Debever</td>\n",
       "      <td>18-abr-88</td>\n",
       "      <td>31</td>\n",
       "      <td>2.0</td>\n",
       "      <td>0.0</td>\n",
       "      <td>Guingamp</td>\n",
       "      <td>0</td>\n",
       "      <td>...</td>\n",
       "      <td>0</td>\n",
       "      <td>0</td>\n",
       "      <td>0</td>\n",
       "      <td>0</td>\n",
       "      <td>0</td>\n",
       "      <td>0</td>\n",
       "      <td>0</td>\n",
       "      <td>0</td>\n",
       "      <td>0</td>\n",
       "      <td>0</td>\n",
       "    </tr>\n",
       "    <tr>\n",
       "      <th>551</th>\n",
       "      <td>23</td>\n",
       "      <td>France</td>\n",
       "      <td>MF</td>\n",
       "      <td>Maéva Clémaron</td>\n",
       "      <td>10-nov-92</td>\n",
       "      <td>26</td>\n",
       "      <td>3.0</td>\n",
       "      <td>0.0</td>\n",
       "      <td>Fleury</td>\n",
       "      <td>0</td>\n",
       "      <td>...</td>\n",
       "      <td>0</td>\n",
       "      <td>0</td>\n",
       "      <td>0</td>\n",
       "      <td>0</td>\n",
       "      <td>0</td>\n",
       "      <td>0</td>\n",
       "      <td>0</td>\n",
       "      <td>0</td>\n",
       "      <td>0</td>\n",
       "      <td>0</td>\n",
       "    </tr>\n",
       "  </tbody>\n",
       "</table>\n",
       "<p>520 rows × 1230 columns</p>\n",
       "</div>"
      ],
      "text/plain": [
       "     Squad no. Country Pos.                  Player        DOB  Age   Caps  \\\n",
       "0            1      US   GK           Alyssa Naeher  20-abr-88   31   43.0   \n",
       "1            2      US   FW            Mallory Pugh  29-abr-98   21   50.0   \n",
       "2            3      US   MF               Sam Mewis  09-oct-92   26   47.0   \n",
       "3            4      US   DF        Becky Sauerbrunn  06-jun-85   34  155.0   \n",
       "4            5      US   DF           Kelley O'Hara  04-ago-88   30  115.0   \n",
       "..         ...     ...  ...                     ...        ...  ...    ...   \n",
       "547         19  France   DF     Griedge Mbock Bathy  26-feb-95   24   49.0   \n",
       "548         20  France   FW      Delphine Cascarino  05-feb-97   22   11.0   \n",
       "549         21  France   GK  Pauline Peyraud-Magnin  17-mar-92   27    1.0   \n",
       "550         22  France   DF          Julie Debever   18-abr-88   31    2.0   \n",
       "551         23  France   MF         Maéva Clémaron   10-nov-92   26    3.0   \n",
       "\n",
       "     Goals                    Club  Argentina  ...  Vittsjö  Växjö  Vålerenga  \\\n",
       "0      0.0       Chicago Red Stars          0  ...        0      0          0   \n",
       "1     15.0       Washington Spirit          0  ...        0      0          0   \n",
       "2      9.0  North Carolina Courage          0  ...        0      0          0   \n",
       "3      0.0             Utah Royals          0  ...        0      0          0   \n",
       "4      2.0             Utah Royals          0  ...        0      0          0   \n",
       "..     ...                     ...        ...  ...      ...    ...        ...   \n",
       "547    4.0                    Lyon          0  ...        0      0          0   \n",
       "548    1.0                    Lyon          0  ...        0      0          0   \n",
       "549    0.0                 Arsenal          0  ...        0      0          0   \n",
       "550    0.0                Guingamp          0  ...        0      0          0   \n",
       "551    0.0                  Fleury          0  ...        0      0          0   \n",
       "\n",
       "     Washington Spirit  West Florida Argonauts  West Ham United  \\\n",
       "0                    0                       0                0   \n",
       "1                    1                       0                0   \n",
       "2                    0                       0                0   \n",
       "3                    0                       0                0   \n",
       "4                    0                       0                0   \n",
       "..                 ...                     ...              ...   \n",
       "547                  0                       0                0   \n",
       "548                  0                       0                0   \n",
       "549                  0                       0                0   \n",
       "550                  0                       0                0   \n",
       "551                  0                       0                0   \n",
       "\n",
       "     Western Springs  Wolfsburg  Wuhan Jianghan University [zh]  Zaragoza  \n",
       "0                  0          0                               0         0  \n",
       "1                  0          0                               0         0  \n",
       "2                  0          0                               0         0  \n",
       "3                  0          0                               0         0  \n",
       "4                  0          0                               0         0  \n",
       "..               ...        ...                             ...       ...  \n",
       "547                0          0                               0         0  \n",
       "548                0          0                               0         0  \n",
       "549                0          0                               0         0  \n",
       "550                0          0                               0         0  \n",
       "551                0          0                               0         0  \n",
       "\n",
       "[520 rows x 1230 columns]"
      ]
     },
     "metadata": {},
     "output_type": "display_data"
    }
   ],
   "source": [
    "women1 = pd.concat([women, dummyCountry,dummyPosition, dummyPlayer, dummyDOB, dummyClub], axis =1)\n",
    "display(women1)"
   ]
  },
  {
   "cell_type": "code",
   "execution_count": 13,
   "id": "81c96ddd",
   "metadata": {
    "ExecuteTime": {
     "end_time": "2022-06-20T10:01:10.362145Z",
     "start_time": "2022-06-20T10:01:10.188944Z"
    }
   },
   "outputs": [
    {
     "name": "stdout",
     "output_type": "stream",
     "text": [
      "(520, 9)\n",
      "________________________________________________________________________\n",
      "(520, 1230)\n"
     ]
    }
   ],
   "source": [
    "print(women.shape)\n",
    "print(\"________________________________________________________________________\")\n",
    "print(women1.shape)"
   ]
  },
  {
   "cell_type": "markdown",
   "id": "d95b167c",
   "metadata": {},
   "source": [
    "Hem passat de tenir un dataset de 9 atributs amb 520 files, a tenir un dataset de 1230 atributs i 520 files"
   ]
  },
  {
   "cell_type": "markdown",
   "id": "47c1c963",
   "metadata": {},
   "source": [
    "### ESTANDARITZAR AMB STANDARDSCALER\n",
    "\n",
    "Ara procedim a estandaritzar els atributs numèrics amb StandardScaler. Tornaré a utilitzar el dataset original per a una millor comprensió dels valors.\n",
    "Una transformació d'escala estàndard és mapar les dades de l'escala original a una escala entre zero i un. Això normalment s'anomena normalització de dades."
   ]
  },
  {
   "cell_type": "code",
   "execution_count": 14,
   "id": "6fa6f076",
   "metadata": {
    "ExecuteTime": {
     "end_time": "2022-06-20T10:01:10.739252Z",
     "start_time": "2022-06-20T10:01:10.365144Z"
    }
   },
   "outputs": [
    {
     "data": {
      "text/plain": [
       "Squad no.      int64\n",
       "Country       object\n",
       "Pos.          object\n",
       "Player        object\n",
       "DOB           object\n",
       "Age            int64\n",
       "Caps         float64\n",
       "Goals        float64\n",
       "Club          object\n",
       "dtype: object"
      ]
     },
     "execution_count": 14,
     "metadata": {},
     "output_type": "execute_result"
    }
   ],
   "source": [
    "# Imprimim els tipus de dades per saber amb quines hem de treballar\n",
    "women.dtypes"
   ]
  },
  {
   "cell_type": "code",
   "execution_count": 15,
   "id": "547f2242",
   "metadata": {
    "ExecuteTime": {
     "end_time": "2022-06-20T10:01:10.898135Z",
     "start_time": "2022-06-20T10:01:10.745247Z"
    }
   },
   "outputs": [
    {
     "name": "stdout",
     "output_type": "stream",
     "text": [
      "     Age   Caps  Goals\n",
      "0     31   43.0    0.0\n",
      "1     21   50.0   15.0\n",
      "2     26   47.0    9.0\n",
      "3     34  155.0    0.0\n",
      "4     30  115.0    2.0\n",
      "..   ...    ...    ...\n",
      "547   24   49.0    4.0\n",
      "548   22   11.0    1.0\n",
      "549   27    1.0    0.0\n",
      "550   31    2.0    0.0\n",
      "551   26    3.0    0.0\n",
      "\n",
      "[520 rows x 3 columns]\n"
     ]
    }
   ],
   "source": [
    "# Només tinc 4 atributs numèrics, i els \"extrec\" del dataset\n",
    "numerics = women.iloc[: , [5,6,7]]\n",
    "print(numerics)"
   ]
  },
  {
   "cell_type": "code",
   "execution_count": 16,
   "id": "c5e31eac",
   "metadata": {
    "ExecuteTime": {
     "end_time": "2022-06-20T10:01:11.118853Z",
     "start_time": "2022-06-20T10:01:10.901140Z"
    }
   },
   "outputs": [],
   "source": [
    "# Importo la llibreria StandardScaler\n",
    "from sklearn.preprocessing import StandardScaler\n"
   ]
  },
  {
   "cell_type": "code",
   "execution_count": 17,
   "id": "bd80b7ec",
   "metadata": {
    "ExecuteTime": {
     "end_time": "2022-06-20T10:01:11.479511Z",
     "start_time": "2022-06-20T10:01:11.125849Z"
    }
   },
   "outputs": [
    {
     "data": {
      "text/plain": [
       "Age      26.178846\n",
       "Caps     43.661538\n",
       "Goals     7.348077\n",
       "dtype: float64"
      ]
     },
     "execution_count": 17,
     "metadata": {},
     "output_type": "execute_result"
    }
   ],
   "source": [
    "# Calculo la mitjana de les columnes\n",
    "\n",
    "numerics.mean()"
   ]
  },
  {
   "cell_type": "code",
   "execution_count": 18,
   "id": "b64cd227",
   "metadata": {
    "ExecuteTime": {
     "end_time": "2022-06-20T10:01:11.826296Z",
     "start_time": "2022-06-20T10:01:11.482506Z"
    }
   },
   "outputs": [
    {
     "data": {
      "text/plain": [
       "Age       3.996715\n",
       "Caps     43.674846\n",
       "Goals    15.541727\n",
       "dtype: float64"
      ]
     },
     "execution_count": 18,
     "metadata": {},
     "output_type": "execute_result"
    }
   ],
   "source": [
    "# Calculo la desviació estandar de les columnes\n",
    "\n",
    "numerics.std()"
   ]
  },
  {
   "cell_type": "code",
   "execution_count": 19,
   "id": "b4a1b947",
   "metadata": {
    "ExecuteTime": {
     "end_time": "2022-06-20T10:01:12.156094Z",
     "start_time": "2022-06-20T10:01:11.829294Z"
    }
   },
   "outputs": [
    {
     "name": "stdout",
     "output_type": "stream",
     "text": [
      "StandardScaler()\n"
     ]
    }
   ],
   "source": [
    "# Creo un objecte anomenat scaler que contingui els atributs numèrics del meu dataset per a poder-los treballar\n",
    "\n",
    "scaler = StandardScaler().fit(numerics)\n",
    "print(scaler)"
   ]
  },
  {
   "cell_type": "code",
   "execution_count": 20,
   "id": "292b1a70",
   "metadata": {
    "ExecuteTime": {
     "end_time": "2022-06-20T10:01:12.311999Z",
     "start_time": "2022-06-20T10:01:12.159091Z"
    }
   },
   "outputs": [
    {
     "data": {
      "text/plain": [
       "array([26.17884615, 43.66153846,  7.34807692])"
      ]
     },
     "execution_count": 20,
     "metadata": {},
     "output_type": "execute_result"
    }
   ],
   "source": [
    "# Calculo la mitjana de les columnes amb scaler per veure si em surt el mateix\n",
    "scaler.mean_"
   ]
  },
  {
   "cell_type": "code",
   "execution_count": 21,
   "id": "3bac212f",
   "metadata": {
    "ExecuteTime": {
     "end_time": "2022-06-20T10:01:12.453911Z",
     "start_time": "2022-06-20T10:01:12.314995Z"
    }
   },
   "outputs": [
    {
     "data": {
      "text/plain": [
       "array([ 3.9928704 , 43.63283059, 15.52677576])"
      ]
     },
     "execution_count": 21,
     "metadata": {},
     "output_type": "execute_result"
    }
   ],
   "source": [
    "# Calculo la desviació estandar de les columnes amb scaler per veure si em surt el mateix\n",
    "scaler.scale_"
   ]
  },
  {
   "cell_type": "code",
   "execution_count": 22,
   "id": "8deda138",
   "metadata": {
    "ExecuteTime": {
     "end_time": "2022-06-20T10:01:12.626807Z",
     "start_time": "2022-06-20T10:01:12.456910Z"
    }
   },
   "outputs": [
    {
     "name": "stdout",
     "output_type": "stream",
     "text": [
      "[[ 1.2074406  -0.01516148 -0.47325195]\n",
      " [-1.29702335  0.14526817  0.49282112]\n",
      " [-0.04479137  0.07651261  0.10639189]\n",
      " ...\n",
      " [ 0.20565502 -0.97773942 -0.47325195]\n",
      " [ 1.2074406  -0.9548209  -0.47325195]\n",
      " [-0.04479137 -0.93190238 -0.47325195]]\n"
     ]
    }
   ],
   "source": [
    "# Anem a estandaritzar els valors \n",
    "\n",
    "numericScaled = scaler.transform(numerics)\n",
    "print (numericScaled)"
   ]
  },
  {
   "cell_type": "code",
   "execution_count": 23,
   "id": "65babc40",
   "metadata": {
    "ExecuteTime": {
     "end_time": "2022-06-20T10:01:12.783707Z",
     "start_time": "2022-06-20T10:01:12.628803Z"
    }
   },
   "outputs": [
    {
     "name": "stdout",
     "output_type": "stream",
     "text": [
      "[-4.09928501e-16 -4.09928501e-17  8.54017711e-18]\n"
     ]
    }
   ],
   "source": [
    "# Calculo la mitjana de les columnes escalades\n",
    "print (numericScaled.mean(axis=0)) #marco l'axis=0 perquè se m'imprimeixin totes les columnes"
   ]
  },
  {
   "cell_type": "code",
   "execution_count": 24,
   "id": "50be899b",
   "metadata": {
    "ExecuteTime": {
     "end_time": "2022-06-20T10:01:12.987582Z",
     "start_time": "2022-06-20T10:01:12.786705Z"
    }
   },
   "outputs": [
    {
     "name": "stdout",
     "output_type": "stream",
     "text": [
      "[1. 1. 1.]\n"
     ]
    }
   ],
   "source": [
    "# Calculo la desviació estandard de les columnes escalades\n",
    "print (numericScaled.std(axis=0)) #marco l'axis=0 perquè se m'imprimeixin totes les columnes"
   ]
  },
  {
   "cell_type": "markdown",
   "id": "5ba453a0",
   "metadata": {},
   "source": [
    "Veiem doncs, com hem convertit les mitjanes en un número 0 (el número negatiu final ens indica els 0 que té al davant) i les desviacions típiques ara són 1."
   ]
  },
  {
   "cell_type": "markdown",
   "id": "bd1cbd1e",
   "metadata": {
    "ExecuteTime": {
     "end_time": "2022-06-13T15:25:17.522871Z",
     "start_time": "2022-06-13T15:25:17.509879Z"
    }
   },
   "source": [
    "\n",
    "\n",
    "## NIVELL 2\n",
    "### Exercici 2\n",
    "Continua amb el conjunt de dades de tema esportiu que t'agradi i aplica l'anàlisi de components principals.\n",
    "El següent pas de la PCA és projectar els elements a dues dimensions, això vol dir que si tinc quatre columnes (4 dimensions), haig de convertir-ho en dues columnes (2 dimensions)\n",
    "\n"
   ]
  },
  {
   "cell_type": "code",
   "execution_count": 25,
   "id": "7cc79929",
   "metadata": {
    "ExecuteTime": {
     "end_time": "2022-06-20T10:01:13.947989Z",
     "start_time": "2022-06-20T10:01:12.990581Z"
    }
   },
   "outputs": [
    {
     "data": {
      "text/html": [
       "<div>\n",
       "<style scoped>\n",
       "    .dataframe tbody tr th:only-of-type {\n",
       "        vertical-align: middle;\n",
       "    }\n",
       "\n",
       "    .dataframe tbody tr th {\n",
       "        vertical-align: top;\n",
       "    }\n",
       "\n",
       "    .dataframe thead th {\n",
       "        text-align: right;\n",
       "    }\n",
       "</style>\n",
       "<table border=\"1\" class=\"dataframe\">\n",
       "  <thead>\n",
       "    <tr style=\"text-align: right;\">\n",
       "      <th></th>\n",
       "      <th>componentPrincipal1</th>\n",
       "      <th>componentPrincipal2</th>\n",
       "    </tr>\n",
       "  </thead>\n",
       "  <tbody>\n",
       "    <tr>\n",
       "      <th>0</th>\n",
       "      <td>0.358993</td>\n",
       "      <td>-1.225922</td>\n",
       "    </tr>\n",
       "    <tr>\n",
       "      <th>1</th>\n",
       "      <td>-0.311699</td>\n",
       "      <td>1.314571</td>\n",
       "    </tr>\n",
       "    <tr>\n",
       "      <th>2</th>\n",
       "      <td>0.085117</td>\n",
       "      <td>0.107340</td>\n",
       "    </tr>\n",
       "    <tr>\n",
       "      <th>3</th>\n",
       "      <td>2.397978</td>\n",
       "      <td>-1.644508</td>\n",
       "    </tr>\n",
       "    <tr>\n",
       "      <th>4</th>\n",
       "      <td>1.356903</td>\n",
       "      <td>-0.853255</td>\n",
       "    </tr>\n",
       "  </tbody>\n",
       "</table>\n",
       "</div>"
      ],
      "text/plain": [
       "   componentPrincipal1  componentPrincipal2\n",
       "0             0.358993            -1.225922\n",
       "1            -0.311699             1.314571\n",
       "2             0.085117             0.107340\n",
       "3             2.397978            -1.644508\n",
       "4             1.356903            -0.853255"
      ]
     },
     "execution_count": 25,
     "metadata": {},
     "output_type": "execute_result"
    }
   ],
   "source": [
    "# Importo la llibreria necessaria\n",
    "from sklearn.decomposition import PCA\n",
    "\n",
    "# Faig la projecció a 2D\n",
    "\n",
    "pca = PCA(n_components=2)\n",
    "\n",
    "componentsPrincipals = pca.fit_transform(numericScaled)\n",
    "\n",
    "dosDdataset = pd.DataFrame(data= componentsPrincipals,\n",
    "                          columns= [\"componentPrincipal1\", \"componentPrincipal2\"]\n",
    "                          )\n",
    "dosDdataset.head()"
   ]
  },
  {
   "cell_type": "code",
   "execution_count": 26,
   "id": "9d9b70eb",
   "metadata": {
    "ExecuteTime": {
     "end_time": "2022-06-20T10:01:13.979971Z",
     "start_time": "2022-06-20T10:01:13.951987Z"
    }
   },
   "outputs": [
    {
     "data": {
      "text/html": [
       "<div>\n",
       "<style scoped>\n",
       "    .dataframe tbody tr th:only-of-type {\n",
       "        vertical-align: middle;\n",
       "    }\n",
       "\n",
       "    .dataframe tbody tr th {\n",
       "        vertical-align: top;\n",
       "    }\n",
       "\n",
       "    .dataframe thead th {\n",
       "        text-align: right;\n",
       "    }\n",
       "</style>\n",
       "<table border=\"1\" class=\"dataframe\">\n",
       "  <thead>\n",
       "    <tr style=\"text-align: right;\">\n",
       "      <th></th>\n",
       "      <th>Pos.</th>\n",
       "      <th>componentPrincipal1</th>\n",
       "      <th>componentPrincipal2</th>\n",
       "    </tr>\n",
       "  </thead>\n",
       "  <tbody>\n",
       "    <tr>\n",
       "      <th>0</th>\n",
       "      <td>GK</td>\n",
       "      <td>0.358993</td>\n",
       "      <td>-1.225922</td>\n",
       "    </tr>\n",
       "    <tr>\n",
       "      <th>1</th>\n",
       "      <td>FW</td>\n",
       "      <td>-0.311699</td>\n",
       "      <td>1.314571</td>\n",
       "    </tr>\n",
       "    <tr>\n",
       "      <th>2</th>\n",
       "      <td>MF</td>\n",
       "      <td>0.085117</td>\n",
       "      <td>0.107340</td>\n",
       "    </tr>\n",
       "    <tr>\n",
       "      <th>3</th>\n",
       "      <td>DF</td>\n",
       "      <td>2.397978</td>\n",
       "      <td>-1.644508</td>\n",
       "    </tr>\n",
       "    <tr>\n",
       "      <th>4</th>\n",
       "      <td>DF</td>\n",
       "      <td>1.356903</td>\n",
       "      <td>-0.853255</td>\n",
       "    </tr>\n",
       "  </tbody>\n",
       "</table>\n",
       "</div>"
      ],
      "text/plain": [
       "  Pos.  componentPrincipal1  componentPrincipal2\n",
       "0   GK             0.358993            -1.225922\n",
       "1   FW            -0.311699             1.314571\n",
       "2   MF             0.085117             0.107340\n",
       "3   DF             2.397978            -1.644508\n",
       "4   DF             1.356903            -0.853255"
      ]
     },
     "execution_count": 26,
     "metadata": {},
     "output_type": "execute_result"
    }
   ],
   "source": [
    "# Concatenem el dataset 2D amb l'atribut categòric \"Pos.\" (posició on juguen) en un dataset final, aquest dataset final és el que farem servir per fer gràfics\n",
    "\n",
    "womenFinal =pd.concat([women[[\"Pos.\"]] , dosDdataset], axis=1)\n",
    "\n",
    "womenFinal.head()\n"
   ]
  },
  {
   "cell_type": "code",
   "execution_count": 27,
   "id": "e77bb513",
   "metadata": {
    "ExecuteTime": {
     "end_time": "2022-06-20T10:01:14.939378Z",
     "start_time": "2022-06-20T10:01:13.982969Z"
    }
   },
   "outputs": [
    {
     "data": {
      "image/png": "[encoded data removed]",
      "text/plain": [
       "<Figure size 1080x1080 with 1 Axes>"
      ]
     },
     "metadata": {
      "needs_background": "light"
     },
     "output_type": "display_data"
    }
   ],
   "source": [
    "# Fem un gràfic amb la informació anterior\n",
    "fig = plt.figure(figsize=(15,15))\n",
    "ax = fig.add_subplot(1,1,1) \n",
    "ax.set_xlabel('Components Principals 1', fontsize = 15)\n",
    "ax.set_ylabel('Components Principals 2', fontsize = 15)\n",
    "ax.set_title('2D components amb PCA', fontsize = 20)\n",
    "\n",
    "posicions = [\"GK\", \"FW\", \"MF\", \"DF\"]\n",
    "colors = [\"r\", \"g\", \"b\", \"y\"]\n",
    "\n",
    "for posicio, color in zip(posicions,colors):\n",
    "    mantenir = womenFinal[\"Pos.\"] == posicio\n",
    "    ax.scatter(womenFinal.loc[mantenir, \"componentPrincipal1\"],\n",
    "              womenFinal.loc[mantenir, \"componentPrincipal2\"],\n",
    "              c = color,\n",
    "              s = 50)\n",
    "\n",
    "ax.legend(posicions)\n",
    "ax.grid()\n"
   ]
  },
  {
   "cell_type": "code",
   "execution_count": 28,
   "id": "3fe86bf7",
   "metadata": {
    "ExecuteTime": {
     "end_time": "2022-06-20T10:01:14.955369Z",
     "start_time": "2022-06-20T10:01:14.942378Z"
    }
   },
   "outputs": [
    {
     "data": {
      "text/plain": [
       "array([0.6871727 , 0.22672172])"
      ]
     },
     "execution_count": 28,
     "metadata": {},
     "output_type": "execute_result"
    }
   ],
   "source": [
    "# Veiem com ens queda repartida la variança en els dos components, un 68% en el primer i un 22% en el segon\n",
    "\n",
    "pca.explained_variance_ratio_"
   ]
  },
  {
   "cell_type": "markdown",
   "id": "68cd737f",
   "metadata": {},
   "source": [
    "\n",
    "\n",
    "## NIVELL 3\n",
    "### Exercici 3\n",
    "Continua amb el conjunt de dades de tema esportiu que t'agradi i normalitza les dades tenint en compte els outliers.\n",
    "\n"
   ]
  },
  {
   "cell_type": "markdown",
   "id": "5fd8c5c2",
   "metadata": {},
   "source": [
    "Utilitzarem el RobustScaler, el qual utilitza la mediana en comptes de la mitjana i dos quartils (IQR) en comptes del mínim i el màxim.\n",
    "Primer mirem els outliers de cada columna amb un boxplot"
   ]
  },
  {
   "cell_type": "code",
   "execution_count": 49,
   "id": "fa9e32a8",
   "metadata": {
    "ExecuteTime": {
     "end_time": "2022-06-20T10:56:03.422701Z",
     "start_time": "2022-06-20T10:56:03.411708Z"
    }
   },
   "outputs": [
    {
     "data": {
      "text/plain": [
       "Age        int64\n",
       "Caps     float64\n",
       "Goals    float64\n",
       "dtype: object"
      ]
     },
     "execution_count": 49,
     "metadata": {},
     "output_type": "execute_result"
    }
   ],
   "source": [
    "numerics.dtypes"
   ]
  },
  {
   "cell_type": "code",
   "execution_count": 57,
   "id": "8a5c4c23",
   "metadata": {
    "ExecuteTime": {
     "end_time": "2022-06-20T10:59:40.567937Z",
     "start_time": "2022-06-20T10:59:39.982298Z"
    }
   },
   "outputs": [
    {
     "data": {
      "text/plain": [
       "array([[<AxesSubplot:title={'center':'Age'}>,\n",
       "        <AxesSubplot:title={'center':'Caps'}>],\n",
       "       [<AxesSubplot:title={'center':'Goals'}>, <AxesSubplot:>]],\n",
       "      dtype=object)"
      ]
     },
     "execution_count": 57,
     "metadata": {},
     "output_type": "execute_result"
    },
    {
     "data": {
      "image/png": "[encoded data removed]",
      "text/plain": [
       "<Figure size 432x288 with 4 Axes>"
      ]
     },
     "metadata": {},
     "output_type": "display_data"
    }
   ],
   "source": [
    " numerics.hist()"
   ]
  },
  {
   "cell_type": "code",
   "execution_count": 46,
   "id": "7448a9db",
   "metadata": {
    "ExecuteTime": {
     "end_time": "2022-06-20T10:52:31.898857Z",
     "start_time": "2022-06-20T10:52:31.695455Z"
    }
   },
   "outputs": [
    {
     "name": "stderr",
     "output_type": "stream",
     "text": [
      "C:\\Users\\Anna\\anaconda3\\lib\\site-packages\\seaborn\\_decorators.py:36: FutureWarning: Pass the following variable as a keyword arg: x. From version 0.12, the only valid positional argument will be `data`, and passing other arguments without an explicit keyword will result in an error or misinterpretation.\n",
      "  warnings.warn(\n"
     ]
    },
    {
     "data": {
      "image/png": "[encoded data removed]",
      "text/plain": [
       "<Figure size 432x288 with 1 Axes>"
      ]
     },
     "metadata": {},
     "output_type": "display_data"
    }
   ],
   "source": [
    "sns.set(style=\"whitegrid\")\n",
    "ax = sns.boxplot(numerics.Age)"
   ]
  },
  {
   "cell_type": "code",
   "execution_count": 50,
   "id": "7cfd18f1",
   "metadata": {
    "ExecuteTime": {
     "end_time": "2022-06-20T10:56:26.559829Z",
     "start_time": "2022-06-20T10:56:26.362949Z"
    }
   },
   "outputs": [
    {
     "name": "stderr",
     "output_type": "stream",
     "text": [
      "C:\\Users\\Anna\\anaconda3\\lib\\site-packages\\seaborn\\_decorators.py:36: FutureWarning: Pass the following variable as a keyword arg: x. From version 0.12, the only valid positional argument will be `data`, and passing other arguments without an explicit keyword will result in an error or misinterpretation.\n",
      "  warnings.warn(\n"
     ]
    },
    {
     "data": {
      "image/png": "[encoded data removed]",
      "text/plain": [
       "<Figure size 432x288 with 1 Axes>"
      ]
     },
     "metadata": {},
     "output_type": "display_data"
    }
   ],
   "source": [
    "sns.set(style=\"whitegrid\")\n",
    "ax = sns.boxplot(numerics.Caps)"
   ]
  },
  {
   "cell_type": "code",
   "execution_count": 48,
   "id": "257d6e10",
   "metadata": {
    "ExecuteTime": {
     "end_time": "2022-06-20T10:53:04.586628Z",
     "start_time": "2022-06-20T10:53:04.338779Z"
    }
   },
   "outputs": [
    {
     "name": "stderr",
     "output_type": "stream",
     "text": [
      "C:\\Users\\Anna\\anaconda3\\lib\\site-packages\\seaborn\\_decorators.py:36: FutureWarning: Pass the following variable as a keyword arg: x. From version 0.12, the only valid positional argument will be `data`, and passing other arguments without an explicit keyword will result in an error or misinterpretation.\n",
      "  warnings.warn(\n"
     ]
    },
    {
     "data": {
      "image/png": "[encoded data removed]",
      "text/plain": [
       "<Figure size 432x288 with 1 Axes>"
      ]
     },
     "metadata": {},
     "output_type": "display_data"
    }
   ],
   "source": [
    "sns.set(style=\"whitegrid\")\n",
    "ax = sns.boxplot(numerics.Goals)"
   ]
  },
  {
   "cell_type": "code",
   "execution_count": 52,
   "id": "60b61306",
   "metadata": {
    "ExecuteTime": {
     "end_time": "2022-06-20T10:57:38.122762Z",
     "start_time": "2022-06-20T10:57:38.084785Z"
    }
   },
   "outputs": [
    {
     "name": "stdout",
     "output_type": "stream",
     "text": [
      "              Age        Caps       Goals\n",
      "count  520.000000  520.000000  520.000000\n",
      "mean     0.029808    0.281822    0.708858\n",
      "std      0.666119    0.869151    1.883846\n",
      "min     -1.666667   -0.587065   -0.181818\n",
      "25%     -0.500000   -0.353234   -0.181818\n",
      "50%      0.000000    0.000000    0.000000\n",
      "75%      0.500000    0.646766    0.818182\n",
      "max      2.500000    5.024876   21.757576\n",
      "[[ 0.83333333  0.26865672 -0.18181818]\n",
      " [-0.83333333  0.4079602   1.63636364]\n",
      " [ 0.          0.34825871  0.90909091]\n",
      " ...\n",
      " [ 0.16666667 -0.56716418 -0.18181818]\n",
      " [ 0.83333333 -0.54726368 -0.18181818]\n",
      " [ 0.         -0.52736318 -0.18181818]]\n"
     ]
    }
   ],
   "source": [
    "# Importo la llibreria necessaria\n",
    "from sklearn.preprocessing import RobustScaler\n",
    "\n",
    "# creem un robustScaler per treballar el dataset\n",
    "trans = RobustScaler()\n",
    "numericsRobust = trans.fit_transform(numerics)\n",
    "\n",
    "# convertim la array en un dataset\n",
    "numericsRobustDS = pd.DataFrame(numericsRobust)\n",
    "numericsRobustDS.columns=[\"Age\", \"Caps\", \"Goals\"]\n",
    "\n",
    "print(numericsRobustDS.describe())\n",
    "print(numericsRobust)\n"
   ]
  },
  {
   "cell_type": "markdown",
   "id": "885632ec",
   "metadata": {},
   "source": [
    "Veiem que els valors s'han ajustat al que li hem demanat,  els valors de la mediana són 0 i la desviació estandard són propers a 1."
   ]
  },
  {
   "cell_type": "code",
   "execution_count": 53,
   "id": "c75b80b5",
   "metadata": {
    "ExecuteTime": {
     "end_time": "2022-06-20T10:58:02.968951Z",
     "start_time": "2022-06-20T10:58:02.418289Z"
    }
   },
   "outputs": [
    {
     "data": {
      "text/plain": [
       "array([[<AxesSubplot:title={'center':'Age'}>,\n",
       "        <AxesSubplot:title={'center':'Caps'}>],\n",
       "       [<AxesSubplot:title={'center':'Goals'}>, <AxesSubplot:>]],\n",
       "      dtype=object)"
      ]
     },
     "execution_count": 53,
     "metadata": {},
     "output_type": "execute_result"
    },
    {
     "data": {
      "image/png": "[encoded data removed]",
      "text/plain": [
       "<Figure size 432x288 with 4 Axes>"
      ]
     },
     "metadata": {},
     "output_type": "display_data"
    }
   ],
   "source": [
    " numericsRobustDS.hist()"
   ]
  },
  {
   "cell_type": "code",
   "execution_count": 54,
   "id": "907f6199",
   "metadata": {
    "ExecuteTime": {
     "end_time": "2022-06-20T10:58:30.373520Z",
     "start_time": "2022-06-20T10:58:30.193630Z"
    }
   },
   "outputs": [
    {
     "name": "stderr",
     "output_type": "stream",
     "text": [
      "C:\\Users\\Anna\\anaconda3\\lib\\site-packages\\seaborn\\_decorators.py:36: FutureWarning: Pass the following variable as a keyword arg: x. From version 0.12, the only valid positional argument will be `data`, and passing other arguments without an explicit keyword will result in an error or misinterpretation.\n",
      "  warnings.warn(\n"
     ]
    },
    {
     "data": {
      "image/png": "[encoded data removed]",
      "text/plain": [
       "<Figure size 432x288 with 1 Axes>"
      ]
     },
     "metadata": {},
     "output_type": "display_data"
    }
   ],
   "source": [
    "sns.set(style=\"whitegrid\")\n",
    "ax = sns.boxplot(numericsRobustDS.Age)"
   ]
  },
  {
   "cell_type": "code",
   "execution_count": 55,
   "id": "8088a415",
   "metadata": {
    "ExecuteTime": {
     "end_time": "2022-06-20T10:58:51.319118Z",
     "start_time": "2022-06-20T10:58:51.122241Z"
    }
   },
   "outputs": [
    {
     "name": "stderr",
     "output_type": "stream",
     "text": [
      "C:\\Users\\Anna\\anaconda3\\lib\\site-packages\\seaborn\\_decorators.py:36: FutureWarning: Pass the following variable as a keyword arg: x. From version 0.12, the only valid positional argument will be `data`, and passing other arguments without an explicit keyword will result in an error or misinterpretation.\n",
      "  warnings.warn(\n"
     ]
    },
    {
     "data": {
      "image/png": "[encoded data removed]",
      "text/plain": [
       "<Figure size 432x288 with 1 Axes>"
      ]
     },
     "metadata": {},
     "output_type": "display_data"
    }
   ],
   "source": [
    "sns.set(style=\"whitegrid\")\n",
    "ax = sns.boxplot(numericsRobustDS.Caps)"
   ]
  },
  {
   "cell_type": "code",
   "execution_count": 56,
   "id": "870df1fd",
   "metadata": {
    "ExecuteTime": {
     "end_time": "2022-06-20T10:58:59.743442Z",
     "start_time": "2022-06-20T10:58:59.545563Z"
    }
   },
   "outputs": [
    {
     "name": "stderr",
     "output_type": "stream",
     "text": [
      "C:\\Users\\Anna\\anaconda3\\lib\\site-packages\\seaborn\\_decorators.py:36: FutureWarning: Pass the following variable as a keyword arg: x. From version 0.12, the only valid positional argument will be `data`, and passing other arguments without an explicit keyword will result in an error or misinterpretation.\n",
      "  warnings.warn(\n"
     ]
    },
    {
     "data": {
      "image/png": "[encoded data removed]",
      "text/plain": [
       "<Figure size 432x288 with 1 Axes>"
      ]
     },
     "metadata": {},
     "output_type": "display_data"
    }
   ],
   "source": [
    "sns.set(style=\"whitegrid\")\n",
    "ax = sns.boxplot(numericsRobustDS.Goals)"
   ]
  },
  {
   "cell_type": "code",
   "execution_count": null,
   "id": "616f0391",
   "metadata": {},
   "outputs": [],
   "source": []
  }
 ],
 "metadata": {
  "hide_input": false,
  "kernelspec": {
   "display_name": "Python 3 (ipykernel)",
   "language": "python",
   "name": "python3"
  },
  "language_info": {
   "codemirror_mode": {
    "name": "ipython",
    "version": 3
   },
   "file_extension": ".py",
   "mimetype": "text/x-python",
   "name": "python",
   "nbconvert_exporter": "python",
   "pygments_lexer": "ipython3",
   "version": "3.9.7"
  },
  "latex_envs": {
   "LaTeX_envs_menu_present": true,
   "autoclose": false,
   "autocomplete": true,
   "bibliofile": "biblio.bib",
   "cite_by": "apalike",
   "current_citInitial": 1,
   "eqLabelWithNumbers": true,
   "eqNumInitial": 1,
   "hotkeys": {
    "equation": "Ctrl-E",
    "itemize": "Ctrl-I"
   },
   "labels_anchors": false,
   "latex_user_defs": false,
   "report_style_numbering": false,
   "user_envs_cfg": false
  },
  "toc": {
   "base_numbering": 1,
   "nav_menu": {},
   "number_sections": true,
   "sideBar": true,
   "skip_h1_title": false,
   "title_cell": "Table of Contents",
   "title_sidebar": "Contents",
   "toc_cell": false,
   "toc_position": {},
   "toc_section_display": true,
   "toc_window_display": false
  },
  "varInspector": {
   "cols": {
    "lenName": 16,
    "lenType": 16,
    "lenVar": 40
   },
   "kernels_config": {
    "python": {
     "delete_cmd_postfix": "",
     "delete_cmd_prefix": "del ",
     "library": "var_list.py",
     "varRefreshCmd": "print(var_dic_list())"
    },
    "r": {
     "delete_cmd_postfix": ") ",
     "delete_cmd_prefix": "rm(",
     "library": "var_list.r",
     "varRefreshCmd": "cat(var_dic_list()) "
    }
   },
   "types_to_exclude": [
    "module",
    "function",
    "builtin_function_or_method",
    "instance",
    "_Feature"
   ],
   "window_display": false
  }
 },
 "nbformat": 4,
 "nbformat_minor": 5
}
